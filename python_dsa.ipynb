{
  "nbformat": 4,
  "nbformat_minor": 0,
  "metadata": {
    "colab": {
      "name": "python_dsa.ipynb",
      "provenance": [],
      "collapsed_sections": [],
      "authorship_tag": "ABX9TyOZZphsPaSRVwGEshWQ/WpX",
      "include_colab_link": true
    },
    "kernelspec": {
      "name": "python3",
      "display_name": "Python 3"
    },
    "language_info": {
      "name": "python"
    }
  },
  "cells": [
    {
      "cell_type": "markdown",
      "metadata": {
        "id": "view-in-github",
        "colab_type": "text"
      },
      "source": [
        "<a href=\"https://colab.research.google.com/github/ami1708/PYTHON_DSA/blob/main/python_dsa.ipynb\" target=\"_parent\"><img src=\"https://colab.research.google.com/assets/colab-badge.svg\" alt=\"Open In Colab\"/></a>"
      ]
    },
    {
      "cell_type": "code",
      "metadata": {
        "colab": {
          "base_uri": "https://localhost:8080/"
        },
        "id": "9mh6-IHwVcNQ",
        "outputId": "aaf375fd-e925-4ece-db01-8f923fd2ecc0"
      },
      "source": [
        "def reverse(s,start,end):\n",
        "  if start>=end:\n",
        "    return \n",
        "\n",
        "  s[start],s[end] = s[end],s[start]\n",
        "  return reverse(s,start+1,end-1)\n",
        "s = [1, 2, 3, 4, 5, 6]\n",
        "print(s)\n",
        "reverse(s, 0, 5)\n",
        "print(\"Reversed list is\")\n",
        "print(s)\n",
        "\n"
      ],
      "execution_count": null,
      "outputs": [
        {
          "output_type": "stream",
          "text": [
            "[1, 2, 3, 4, 5, 6]\n",
            "Reversed list is\n",
            "[6, 5, 4, 3, 2, 1]\n"
          ],
          "name": "stdout"
        }
      ]
    },
    {
      "cell_type": "code",
      "metadata": {
        "id": "rZg56j73WGtj",
        "colab": {
          "base_uri": "https://localhost:8080/"
        },
        "outputId": "252519db-1a8d-4f73-846c-100c73f6a473"
      },
      "source": [
        "class pair:\n",
        "    def __init__(self):\n",
        "        self.min = 0\n",
        "        self.max = 0\n",
        " \n",
        "def getMinMax(arr: list, n: int) -> pair:\n",
        "    minmax = pair()\n",
        " \n",
        "    # If there is only one element then return it as min and max both\n",
        "    if n == 1:\n",
        "        minmax.max = arr[0]\n",
        "        minmax.min = arr[0]\n",
        "        return minmax\n",
        " \n",
        "    # If there are more than one elements, then initialize min\n",
        "    # and max\n",
        "    if arr[0] > arr[1]:\n",
        "        minmax.max = arr[0]\n",
        "        minmax.min = arr[1]\n",
        "    else:\n",
        "        minmax.max = arr[1]\n",
        "        minmax.min = arr[0]\n",
        " \n",
        "    for i in range(2, n):\n",
        "        if arr[i] > minmax.max:\n",
        "            minmax.max = arr[i]\n",
        "        elif arr[i] < minmax.min:\n",
        "            minmax.min = arr[i]\n",
        " \n",
        "    return minmax\n",
        " \n",
        "# Driver Code\n",
        "if __name__ == \"__main__\":\n",
        "    arr = [1000, 11, 445, 1, 330, 3000]\n",
        "    arr_size = 6\n",
        "    minmax = getMinMax(arr, arr_size)\n",
        "    print(\"Minimum element is\", minmax.min)\n",
        "    print(\"Maximum element is\", minmax.max)\n",
        " "
      ],
      "execution_count": null,
      "outputs": [
        {
          "output_type": "stream",
          "text": [
            "Minimum element is 1\n",
            "Maximum element is 3000\n"
          ],
          "name": "stdout"
        }
      ]
    },
    {
      "cell_type": "code",
      "metadata": {
        "colab": {
          "base_uri": "https://localhost:8080/"
        },
        "id": "NzuWiHKSmd_Z",
        "outputId": "d3bfae39-ffef-4980-cc46-d727788c7638"
      },
      "source": [
        "def minmax(arr,n):\n",
        "  min = 0\n",
        "  max = 0\n",
        "  if n ==1:\n",
        "    min = arr[0]\n",
        "    max = arr[0]\n",
        "  \n",
        "\n",
        "  if arr[0]>arr[1]:\n",
        "    min = arr[1]\n",
        "    max = arr[0]\n",
        "\n",
        "  for i in range(2,n):\n",
        "    if arr[i]>max:\n",
        "      max = arr[i]\n",
        "    elif arr[i]<min:\n",
        "      min = arr[i]\n",
        "  print(\" Minimum element\", min);\n",
        "  print(\" Maximum element\", max);\n",
        "\n",
        "\n",
        "\n",
        "if __name__ == \"__main__\":\n",
        "    arr = [1000, 11, 445, 1, 330, 3000]\n",
        "    n = 6\n",
        "    minmax(arr,n)\n",
        "    \n",
        " "
      ],
      "execution_count": null,
      "outputs": [
        {
          "output_type": "stream",
          "text": [
            " Minimum element 1\n",
            " Maximum element 3000\n"
          ],
          "name": "stdout"
        }
      ]
    },
    {
      "cell_type": "code",
      "metadata": {
        "id": "1YDcI2JeqwyK",
        "colab": {
          "base_uri": "https://localhost:8080/"
        },
        "outputId": "c8745179-f303-4f3f-a9d2-3a60e3f9ea61"
      },
      "source": [
        "import random\n",
        "class Solution:\n",
        "    def swap(self,arr, a, b): \n",
        "        temp = arr[a] \n",
        "        arr[a] = arr[b] \n",
        "        arr[b] = temp \n",
        "      \n",
        "    def randomPartition(self,arr, l, r): \n",
        "        n = r - l + 1\n",
        "        pivot = int(random.random() % n)  \n",
        "        self.swap(arr, l + pivot, r)  \n",
        "        return self.partition(arr, l, r) \n",
        "    def kthSmallest(self,arr, l, r, k): \n",
        "        if (k > 0 and k <= r - l + 1): \n",
        "              \n",
        "            pos = self.randomPartition(arr, l, r)  \n",
        "            if (pos - l == k - 1):  \n",
        "                return arr[pos]  \n",
        "            if (pos - l > k - 1):  \n",
        "                                 \n",
        "                return self.kthSmallest(arr, l, pos - 1, k)  \n",
        "      \n",
        "            \n",
        "            return self.kthSmallest(arr, pos + 1, r,  \n",
        "                               k - pos + l - 1) \n",
        "      \n",
        "        return 999999999999\n",
        "      \n",
        "    def partition(self,arr, l, r): \n",
        "        x = arr[r] \n",
        "        i = l \n",
        "        for j in range(l, r): \n",
        "            if (arr[j] <= x): \n",
        "                self.swap(arr, i, j)  \n",
        "                i += 1\n",
        "        self.swap(arr, i, r)  \n",
        "        return i \n",
        "    \n",
        "\n",
        "arr = [12,13,7,8,10,3]\n",
        "n = 6\n",
        "k = 3\n",
        "ob = Solution()\n",
        "print(ob.kthSmallest(arr,0,n-1,k))\n"
      ],
      "execution_count": null,
      "outputs": [
        {
          "output_type": "stream",
          "text": [
            "8\n"
          ],
          "name": "stdout"
        }
      ]
    },
    {
      "cell_type": "code",
      "metadata": {
        "id": "-dkpiPYMp-Dl"
      },
      "source": [
        "class Solution:\n",
        "    def sort012(self,arr,n):\n",
        "        high= n-1\n",
        "        low = 0\n",
        "        mid = 0\n",
        "        \n",
        "        \n",
        "        while mid<=high:\n",
        "            if arr[mid] == 0:\n",
        "                arr[mid],arr[low] = arr[low],arr[mid]\n",
        "                mid+=1\n",
        "                low+=1\n",
        "            elif arr[mid]==1:\n",
        "                mid+=1\n",
        "            else:\n",
        "                arr[mid],arr[high] = arr[high],arr[mid]\n",
        "                high-=1\n",
        "                \n",
        "        \n",
        "      "
      ],
      "execution_count": null,
      "outputs": []
    },
    {
      "cell_type": "code",
      "metadata": {
        "id": "uU_2oEZN58tB",
        "colab": {
          "base_uri": "https://localhost:8080/"
        },
        "outputId": "200f3ec6-9c3a-453d-dd08-33973f3217af"
      },
      "source": [
        "\n",
        "# A Python 3 program to put\n",
        "# all negative numbers before\n",
        "# positive numbers\n",
        " \n",
        "def rearrange(arr, n ) :\n",
        " \n",
        "    # Please refer partition() in\n",
        "    # below post\n",
        "    # https://www.geeksforgeeks.org / quick-sort / j = 0\n",
        "    j = 0\n",
        "    for i in range(0, n) :\n",
        "        if (arr[i] < 0) :\n",
        "            temp = arr[i]\n",
        "            arr[i] = arr[j]\n",
        "            arr[j]= temp\n",
        "            j = j + 1\n",
        "    print(arr)\n",
        " \n",
        "# Driver code\n",
        "arr = [-1, 2, -3, 4, 5, 6, -7, 8, 9]\n",
        "n = len(arr)\n",
        "rearrange(arr, n)\n",
        " "
      ],
      "execution_count": null,
      "outputs": [
        {
          "output_type": "stream",
          "text": [
            "[-1, -3, -7, 4, 5, 6, 2, 8, 9]\n"
          ],
          "name": "stdout"
        }
      ]
    },
    {
      "cell_type": "code",
      "metadata": {
        "colab": {
          "base_uri": "https://localhost:8080/"
        },
        "id": "cLH0lDPjy0Z2",
        "outputId": "0a4edaae-c6e4-49d7-9e0b-941b9d50989e"
      },
      "source": [
        "def segre(arr,n):\n",
        "  j = 0\n",
        "  for i in range(0,n):\n",
        "    if(arr[i]<0):\n",
        "      temp = arr[i]\n",
        "      arr[i] = arr[j]\n",
        "      arr[j]= temp\n",
        "      j+=1\n",
        "\n",
        "  print(arr)\n",
        "arr = [ -1,-3,-4,7,-3,8,9,-2]\n",
        "n = len(arr)\n",
        "segre(arr,n)"
      ],
      "execution_count": null,
      "outputs": [
        {
          "output_type": "stream",
          "text": [
            "[-1, -3, -4, -3, -2, 8, 9, 7]\n"
          ],
          "name": "stdout"
        }
      ]
    },
    {
      "cell_type": "code",
      "metadata": {
        "colab": {
          "base_uri": "https://localhost:8080/"
        },
        "id": "PSVN2nBc6SA1",
        "outputId": "a9f63eda-93c6-4e5f-942f-ea1327db4e8e"
      },
      "source": [
        "def segr(arr,n):\n",
        "  left = 0\n",
        "  right = n-1\n",
        "\n",
        "  while left<=right:\n",
        "\n",
        "    if arr[left]<0 and arr[right]<0:\n",
        "      left+=1\n",
        "    elif arr[left]>0 and arr[right]<0:\n",
        "      temp =  arr[left]\n",
        "      arr[left] = arr[right]\n",
        "      arr[right] = temp\n",
        "      left+=1\n",
        "      right-=1\n",
        "    else:\n",
        "      right-=1\n",
        "\n",
        "  print(arr)\n",
        "arr = [ -1,-3,-4,7,-3,8,9,-2,9,-11]\n",
        "n = len(arr)\n",
        "segr(arr,n)\n",
        "\n",
        "    "
      ],
      "execution_count": null,
      "outputs": [
        {
          "output_type": "stream",
          "text": [
            "[-1, -3, -4, -11, -3, -2, 9, 8, 9, 7]\n"
          ],
          "name": "stdout"
        }
      ]
    },
    {
      "cell_type": "code",
      "metadata": {
        "id": "5mP8CwVp6XUj"
      },
      "source": [
        "use hash map then do "
      ],
      "execution_count": null,
      "outputs": []
    },
    {
      "cell_type": "code",
      "metadata": {
        "colab": {
          "base_uri": "https://localhost:8080/"
        },
        "id": "wXqwmkV5kPfn",
        "outputId": "b234024c-cec6-4925-8540-a200d86881a3"
      },
      "source": [
        "def rotate( arr, n):\n",
        "    x = arr[n-1]\n",
        "    for i in range(n-1,0,-1):\n",
        "        arr[i] = arr[i-1]\n",
        "    arr[0]=x\n",
        "    return arr\n",
        "    \n",
        "\n",
        "\n",
        "\n",
        "arr = [1,2,3,54,5]\n",
        "n = len(arr)\n",
        "rotate(arr,n)"
      ],
      "execution_count": null,
      "outputs": [
        {
          "output_type": "execute_result",
          "data": {
            "text/plain": [
              "[5, 1, 2, 3, 54]"
            ]
          },
          "metadata": {
            "tags": []
          },
          "execution_count": 7
        }
      ]
    },
    {
      "cell_type": "markdown",
      "metadata": {
        "id": "Ivxkv3Gtkyfm"
      },
      "source": [
        ""
      ]
    },
    {
      "cell_type": "code",
      "metadata": {
        "id": "zLS_jEUfkqT3",
        "colab": {
          "base_uri": "https://localhost:8080/",
          "height": 203
        },
        "outputId": "a2ced7de-d9c5-4c49-9ff8-36d042827854"
      },
      "source": [
        "#User function Template for python3\n",
        "\n",
        "class Solution:\n",
        "    #Function to find the sum of contiguous subarray with maximum sum.\n",
        "    def maxi(self,a,size): \n",
        "           \n",
        "        max_so_far = -9999999 - 1\n",
        "        max_ending_here = 0\n",
        "        \n",
        "        #Iterating over the array. \n",
        "        for i in range(0, size): \n",
        "            #Updating max sum till current index.\n",
        "            max_ending_here = max_ending_here + a[i]\n",
        "            \n",
        "            #Storing max sum so far by choosing maximum between max \n",
        "            #sum so far and max sum till current index.\n",
        "            if (max_so_far < max_ending_here): \n",
        "                max_so_far = max_ending_here \n",
        "        \n",
        "            #If max sum till current index is negative, we do not need to add\n",
        "            #it to result so we update it to zero.\n",
        "            if max_ending_here < 0: \n",
        "                max_ending_here = 0   \n",
        "        \n",
        "        #returning the result.\n",
        "        return max_so_far\n",
        " \n",
        "\n",
        "a = [1,2,3,4,5,67]\n",
        "size = len(a)\n",
        "print(\"subaaray is\" ,maxi(a,size))\n"
      ],
      "execution_count": null,
      "outputs": [
        {
          "output_type": "error",
          "ename": "NameError",
          "evalue": "ignored",
          "traceback": [
            "\u001b[0;31m---------------------------------------------------------------------------\u001b[0m",
            "\u001b[0;31mNameError\u001b[0m                                 Traceback (most recent call last)",
            "\u001b[0;32m<ipython-input-5-58fe8de17bbf>\u001b[0m in \u001b[0;36m<module>\u001b[0;34m()\u001b[0m\n\u001b[1;32m     29\u001b[0m \u001b[0ma\u001b[0m \u001b[0;34m=\u001b[0m \u001b[0;34m[\u001b[0m\u001b[0;36m1\u001b[0m\u001b[0;34m,\u001b[0m\u001b[0;36m2\u001b[0m\u001b[0;34m,\u001b[0m\u001b[0;36m3\u001b[0m\u001b[0;34m,\u001b[0m\u001b[0;36m4\u001b[0m\u001b[0;34m,\u001b[0m\u001b[0;36m5\u001b[0m\u001b[0;34m,\u001b[0m\u001b[0;36m67\u001b[0m\u001b[0;34m]\u001b[0m\u001b[0;34m\u001b[0m\u001b[0;34m\u001b[0m\u001b[0m\n\u001b[1;32m     30\u001b[0m \u001b[0msize\u001b[0m \u001b[0;34m=\u001b[0m \u001b[0mlen\u001b[0m\u001b[0;34m(\u001b[0m\u001b[0ma\u001b[0m\u001b[0;34m)\u001b[0m\u001b[0;34m\u001b[0m\u001b[0;34m\u001b[0m\u001b[0m\n\u001b[0;32m---> 31\u001b[0;31m \u001b[0mprint\u001b[0m\u001b[0;34m(\u001b[0m\u001b[0;34m\"subaaray is\"\u001b[0m \u001b[0;34m,\u001b[0m\u001b[0mmaxi\u001b[0m\u001b[0;34m(\u001b[0m\u001b[0ma\u001b[0m\u001b[0;34m,\u001b[0m\u001b[0msize\u001b[0m\u001b[0;34m)\u001b[0m\u001b[0;34m)\u001b[0m\u001b[0;34m\u001b[0m\u001b[0;34m\u001b[0m\u001b[0m\n\u001b[0m",
            "\u001b[0;31mNameError\u001b[0m: name 'maxi' is not defined"
          ]
        }
      ]
    },
    {
      "cell_type": "code",
      "metadata": {
        "id": "ZazGu7dA4fwq",
        "colab": {
          "base_uri": "https://localhost:8080/",
          "height": 370
        },
        "outputId": "77f1063e-73da-43cd-851a-b74bedf0ea0d"
      },
      "source": [
        "def mini(arr,n,k):\n",
        "  if (n==1):\n",
        "    return 0 \n",
        "  arr.sort()\n",
        "\n",
        "\n",
        "  ans = arr[n-1]-arr[0]\n",
        "\n",
        "  small = arr[0]+k\n",
        "  big = arr[n-1]-k\n",
        "\n",
        "  if (small>big):\n",
        "    small,big = big,small\n",
        "\n",
        "  for i in range(1,n-1):\n",
        "    add = arr[i]+k\n",
        "    subtract = arr[i]-k\n",
        "\n",
        "\n",
        "    if (subtract>=small and big>=add):\n",
        "      continue\n",
        "\n",
        "  \n",
        "    if (big-subtract<= add-small):\n",
        "\n",
        "      small = subtract\n",
        "\n",
        "    else:\n",
        "\n",
        "\n",
        "      big =add\n",
        "\n",
        "  return min(ans,big-small)\n",
        "\n",
        "\n",
        "arr = [ 4, 6 ]\n",
        "n = len(arr)\n",
        "k = 10\n",
        " \n",
        "print(\"Maximum difference is\", mini(arr, n, k))\n",
        "\n"
      ],
      "execution_count": null,
      "outputs": [
        {
          "output_type": "error",
          "ename": "AttributeError",
          "evalue": "ignored",
          "traceback": [
            "\u001b[0;31m---------------------------------------------------------------------------\u001b[0m",
            "\u001b[0;31mAttributeError\u001b[0m                            Traceback (most recent call last)",
            "\u001b[0;32m<ipython-input-9-7f15a4e03088>\u001b[0m in \u001b[0;36m<module>\u001b[0;34m()\u001b[0m\n\u001b[1;32m     39\u001b[0m \u001b[0mk\u001b[0m \u001b[0;34m=\u001b[0m \u001b[0;36m10\u001b[0m\u001b[0;34m\u001b[0m\u001b[0;34m\u001b[0m\u001b[0m\n\u001b[1;32m     40\u001b[0m \u001b[0;34m\u001b[0m\u001b[0m\n\u001b[0;32m---> 41\u001b[0;31m \u001b[0mprint\u001b[0m\u001b[0;34m(\u001b[0m\u001b[0;34m\"Maximum difference is\"\u001b[0m\u001b[0;34m,\u001b[0m \u001b[0mmini\u001b[0m\u001b[0;34m(\u001b[0m\u001b[0marr\u001b[0m\u001b[0;34m,\u001b[0m \u001b[0mn\u001b[0m\u001b[0;34m,\u001b[0m \u001b[0mk\u001b[0m\u001b[0;34m)\u001b[0m\u001b[0;34m)\u001b[0m\u001b[0;34m\u001b[0m\u001b[0;34m\u001b[0m\u001b[0m\n\u001b[0m\u001b[1;32m     42\u001b[0m \u001b[0;34m\u001b[0m\u001b[0m\n",
            "\u001b[0;32m<ipython-input-9-7f15a4e03088>\u001b[0m in \u001b[0;36mmini\u001b[0;34m(arr, n, k)\u001b[0m\n\u001b[1;32m     32\u001b[0m       \u001b[0mbig\u001b[0m \u001b[0;34m=\u001b[0m\u001b[0madd\u001b[0m\u001b[0;34m\u001b[0m\u001b[0;34m\u001b[0m\u001b[0m\n\u001b[1;32m     33\u001b[0m \u001b[0;34m\u001b[0m\u001b[0m\n\u001b[0;32m---> 34\u001b[0;31m   \u001b[0;32mreturn\u001b[0m \u001b[0mmin\u001b[0m\u001b[0;34m(\u001b[0m\u001b[0mans\u001b[0m\u001b[0;34m,\u001b[0m\u001b[0mbig\u001b[0m\u001b[0;34m-\u001b[0m\u001b[0msmall\u001b[0m\u001b[0;34m,\u001b[0m\u001b[0mk\u001b[0m\u001b[0;34m)\u001b[0m\u001b[0;34m\u001b[0m\u001b[0;34m\u001b[0m\u001b[0m\n\u001b[0m\u001b[1;32m     35\u001b[0m \u001b[0;34m\u001b[0m\u001b[0m\n\u001b[1;32m     36\u001b[0m \u001b[0;34m\u001b[0m\u001b[0m\n",
            "\u001b[0;32m<ipython-input-7-c89702f45bb2>\u001b[0m in \u001b[0;36mmin\u001b[0;34m(arr, n, k)\u001b[0m\n\u001b[1;32m      4\u001b[0m \u001b[0;34m\u001b[0m\u001b[0m\n\u001b[1;32m      5\u001b[0m \u001b[0;34m\u001b[0m\u001b[0m\n\u001b[0;32m----> 6\u001b[0;31m   \u001b[0marr\u001b[0m\u001b[0;34m.\u001b[0m\u001b[0msort\u001b[0m\u001b[0;34m(\u001b[0m\u001b[0;34m)\u001b[0m\u001b[0;34m\u001b[0m\u001b[0;34m\u001b[0m\u001b[0m\n\u001b[0m\u001b[1;32m      7\u001b[0m \u001b[0;34m\u001b[0m\u001b[0m\n\u001b[1;32m      8\u001b[0m \u001b[0;34m\u001b[0m\u001b[0m\n",
            "\u001b[0;31mAttributeError\u001b[0m: 'int' object has no attribute 'sort'"
          ]
        }
      ]
    },
    {
      "cell_type": "code",
      "metadata": {
        "colab": {
          "base_uri": "https://localhost:8080/"
        },
        "id": "wWPZSzMGLbS3",
        "outputId": "c30c7e6a-76e2-45d0-a302-fbb0e038f720"
      },
      "source": [
        "class Solution:\n",
        "    def getMinDiff(self, arr, n, k):\n",
        "        # code here\n",
        "        v = []\n",
        "        taken = [0]*n\n",
        "        \n",
        "        for i in range(n):\n",
        "            if arr[i]-k >= 0:\n",
        "                v.append([arr[i]-k,i])\n",
        "            v.append([arr[i] + k,i])\n",
        "            \n",
        "        \n",
        "        v.sort()\n",
        "        \n",
        "        elements_in_range = 0;\n",
        "        left = 0\n",
        "        right = 0\n",
        "        \n",
        "        while elements_in_range < n and right < len(v) :\n",
        "            \n",
        "            if taken[v[right][1]] == 0 :\n",
        "                elements_in_range+=1;\n",
        "            \n",
        "            taken[v[right][1]]+=1;\n",
        "            right+=1;\n",
        "        \n",
        "        \n",
        "        ans = v[right - 1][0] - v[left][0]\n",
        "        \n",
        "        while right < len(v) :\n",
        "    \n",
        "            if(taken[v[left][1]] == 1) :\n",
        "                elements_in_range-=1;\n",
        "            \n",
        "            taken[v[left][1]]-=1;\n",
        "            left+=1\n",
        "            \n",
        "            while elements_in_range < n and right < len(v) : \n",
        "                if taken[v[right][1]] == 0 :\n",
        "                    elements_in_range+=1\n",
        "                \n",
        "                taken[v[right][1]]+=1\n",
        "                right+=1\n",
        "            \n",
        "            \n",
        "            if(elements_in_range == n) : \n",
        "                ans = min(ans, v[right - 1][0] - v[left][0])\n",
        "            else :\n",
        "                break\n",
        "            \n",
        "        \n",
        "        return ans\n",
        "        # code here\n",
        "\n",
        "#{ \n",
        "#  Driver Code Starts\n",
        "#Initial Template for Python 3\n",
        "\n",
        "if __name__ == '__main__':\n",
        "    tc = int(input())\n",
        "    while tc > 0:\n",
        "        k = int(input())\n",
        "        n = int(input())\n",
        "        arr = list(map(int, input().strip().split()))\n",
        "        ob = Solution()\n",
        "        ans = ob.getMinDiff(arr, n, k)\n",
        "        print(ans)"
      ],
      "execution_count": null,
      "outputs": [
        {
          "output_type": "stream",
          "text": [
            "1\n",
            "4\n",
            "4\n",
            "8 10 12 15\n",
            "5\n"
          ],
          "name": "stdout"
        }
      ]
    },
    {
      "cell_type": "code",
      "metadata": {
        "id": "SGe-QXQm4oXS",
        "colab": {
          "base_uri": "https://localhost:8080/"
        },
        "outputId": "d5e04ce7-005a-45a8-ff98-07afb52cfcfe"
      },
      "source": [
        "\n",
        "def merge(M, N, A, B):\n",
        "\n",
        "    # Traverse first array and check each element\n",
        "\n",
        "    for i in range(M):\n",
        "\n",
        "        # check if first element of second array\n",
        "        # is smaller\n",
        "\n",
        "        if A[i] > B[0]:\n",
        "\n",
        "            A[i], B[0] = B[0], A[i]\n",
        "\n",
        "            j = 0\n",
        "\n",
        "            # shift B[0 ] to its correct position in\n",
        "            # second array\n",
        "\n",
        "            while j + 1 < N and B[j] > B[j + 1]:\n",
        "\n",
        "                B[j], B[j + 1] = B[j + 1], B[j]\n",
        "                j = j + 1\n",
        "\n",
        "            # Print resultant array\n",
        "\n",
        "            print(A)\n",
        "            print(B)\n",
        "\n",
        "\n",
        "M = 0\n",
        "N = 0\n",
        "\n",
        "# input size of both the arrays\n",
        "\n",
        "M = int(input())\n",
        "\n",
        "N = int(input())\n",
        "\n",
        "# input both the arrays\n",
        "\n",
        "A = []\n",
        "B = []\n",
        "\n",
        "for i in range(M):\n",
        "    temp = int(input())\n",
        "    A.append(temp)\n",
        "\n",
        "for i in range(N):\n",
        "    temp = int(input())\n",
        "    B.append(temp)\n",
        "\n",
        "# Function call\n",
        "\n",
        "merge(M, N, A, B)"
      ],
      "execution_count": null,
      "outputs": [
        {
          "output_type": "stream",
          "text": [
            "3\n",
            "4\n",
            "1\n",
            "4\n",
            "7\n",
            "2\n",
            "8\n",
            "10\n",
            "12\n",
            "[1, 2, 7]\n",
            "[4, 8, 10, 12]\n",
            "[1, 2, 4]\n",
            "[7, 8, 10, 12]\n"
          ],
          "name": "stdout"
        }
      ]
    },
    {
      "cell_type": "code",
      "metadata": {
        "id": "t5eSZ6hN7vk1",
        "colab": {
          "base_uri": "https://localhost:8080/",
          "height": 434
        },
        "outputId": "406c2815-69e0-4c6e-d98e-ad4bdb38d10b"
      },
      "source": [
        "def mergearrays(A,B,M,N):\n",
        "  \n",
        "\n",
        "  for i in range(N-1, -1, -1):\n",
        "    last = A[M-1]\n",
        "    j = M-2\n",
        "    while(j >= 0 and A[j] > A[i]):\n",
        "            A[j+1] = A[j]\n",
        "            j-=1\n",
        "    if (j != M-2 or last > B[i]):\n",
        "      A[j+1] = B[i]\n",
        "      B[i] = last\n",
        "\n",
        "\n",
        "\n",
        "\n",
        "M = int(input())\n",
        "\n",
        "N = int(input())\n",
        "\n",
        "# input both the arrays\n",
        "\n",
        "A = []\n",
        "B = []\n",
        "\n",
        "for i in range(M):\n",
        "    temp = int(input())\n",
        "    A.append(temp)\n",
        "\n",
        "for i in range(N):\n",
        "    temp = int(input())\n",
        "    B.append(temp)\n",
        "\n",
        "# Function call\n",
        "\n",
        "mergearrays(M, N, A, B)"
      ],
      "execution_count": null,
      "outputs": [
        {
          "output_type": "stream",
          "text": [
            "2\n",
            "2\n",
            "4\n",
            "6\n",
            "1\n",
            "9\n"
          ],
          "name": "stdout"
        },
        {
          "output_type": "error",
          "ename": "TypeError",
          "evalue": "ignored",
          "traceback": [
            "\u001b[0;31m---------------------------------------------------------------------------\u001b[0m",
            "\u001b[0;31mTypeError\u001b[0m                                 Traceback (most recent call last)",
            "\u001b[0;32m<ipython-input-7-277c7b52eceb>\u001b[0m in \u001b[0;36m<module>\u001b[0;34m()\u001b[0m\n\u001b[1;32m     34\u001b[0m \u001b[0;31m# Function call\u001b[0m\u001b[0;34m\u001b[0m\u001b[0;34m\u001b[0m\u001b[0;34m\u001b[0m\u001b[0m\n\u001b[1;32m     35\u001b[0m \u001b[0;34m\u001b[0m\u001b[0m\n\u001b[0;32m---> 36\u001b[0;31m \u001b[0mmergearrays\u001b[0m\u001b[0;34m(\u001b[0m\u001b[0mM\u001b[0m\u001b[0;34m,\u001b[0m \u001b[0mN\u001b[0m\u001b[0;34m,\u001b[0m \u001b[0mA\u001b[0m\u001b[0;34m,\u001b[0m \u001b[0mB\u001b[0m\u001b[0;34m)\u001b[0m\u001b[0;34m\u001b[0m\u001b[0;34m\u001b[0m\u001b[0m\n\u001b[0m",
            "\u001b[0;32m<ipython-input-7-277c7b52eceb>\u001b[0m in \u001b[0;36mmergearrays\u001b[0;34m(A, B, M, N)\u001b[0m\n\u001b[1;32m      2\u001b[0m \u001b[0;34m\u001b[0m\u001b[0m\n\u001b[1;32m      3\u001b[0m \u001b[0;34m\u001b[0m\u001b[0m\n\u001b[0;32m----> 4\u001b[0;31m   \u001b[0;32mfor\u001b[0m \u001b[0mi\u001b[0m \u001b[0;32min\u001b[0m \u001b[0mrange\u001b[0m\u001b[0;34m(\u001b[0m\u001b[0mN\u001b[0m\u001b[0;34m-\u001b[0m\u001b[0;36m1\u001b[0m\u001b[0;34m,\u001b[0m \u001b[0;34m-\u001b[0m\u001b[0;36m1\u001b[0m\u001b[0;34m,\u001b[0m \u001b[0;34m-\u001b[0m\u001b[0;36m1\u001b[0m\u001b[0;34m)\u001b[0m\u001b[0;34m:\u001b[0m\u001b[0;34m\u001b[0m\u001b[0;34m\u001b[0m\u001b[0m\n\u001b[0m\u001b[1;32m      5\u001b[0m     \u001b[0mlast\u001b[0m \u001b[0;34m=\u001b[0m \u001b[0mA\u001b[0m\u001b[0;34m[\u001b[0m\u001b[0mM\u001b[0m\u001b[0;34m-\u001b[0m\u001b[0;36m1\u001b[0m\u001b[0;34m]\u001b[0m\u001b[0;34m\u001b[0m\u001b[0;34m\u001b[0m\u001b[0m\n\u001b[1;32m      6\u001b[0m     \u001b[0mj\u001b[0m \u001b[0;34m=\u001b[0m \u001b[0mM\u001b[0m\u001b[0;34m-\u001b[0m\u001b[0;36m2\u001b[0m\u001b[0;34m\u001b[0m\u001b[0;34m\u001b[0m\u001b[0m\n",
            "\u001b[0;31mTypeError\u001b[0m: unsupported operand type(s) for -: 'list' and 'int'"
          ]
        }
      ]
    },
    {
      "cell_type": "code",
      "metadata": {
        "colab": {
          "base_uri": "https://localhost:8080/"
        },
        "id": "wzTe2p1VHVQM",
        "outputId": "62155ade-8324-45f7-b467-0d7560897302"
      },
      "source": [
        "# Merge ar1[] and ar2[]\n",
        "# with O(1) extra space\n",
        "def merge(ar1, ar2, m, n):\n",
        " \n",
        "    \n",
        "    for i in range(n-1, -1, -1):\n",
        "     \n",
        "        last = ar1[m-1]\n",
        "        j=m-2\n",
        "        while(j >= 0 and ar1[j] > ar2[i]):\n",
        "            ar1[j+1] = ar1[j]\n",
        "            j-=1\n",
        "  \n",
        "       \n",
        "        if (j != m-2 or last > ar2[i]):\n",
        "         \n",
        "            ar1[j+1] = ar2[i]\n",
        "            ar2[i] = last\n",
        "  \n",
        "# Driver program\n",
        " \n",
        "ar1 = [1, 5, 9, 10, 15, 20]\n",
        "ar2 = [2, 3, 8, 13]\n",
        "m = len(ar1)\n",
        "n = len(ar2)\n",
        " \n",
        "merge(ar1, ar2, m, n)\n",
        "  \n",
        "print(\"After Merging \\nFirst Array:\", end=\"\")\n",
        "for i in range(m):\n",
        "    print(ar1[i] , \" \", end=\"\")\n",
        " \n",
        "print(\"\\nSecond Array: \", end=\"\")\n",
        "for i in range(n):\n",
        "    print(ar2[i] , \" \", end=\"\")\n",
        " \n",
        "# This code is contributed\n",
        "# by Anant Agarwal."
      ],
      "execution_count": null,
      "outputs": [
        {
          "output_type": "stream",
          "text": [
            "After Merging \n",
            "First Array:1  2  3  5  8  9  \n",
            "Second Array: 10  13  15  20  "
          ],
          "name": "stdout"
        }
      ]
    },
    {
      "cell_type": "code",
      "metadata": {
        "id": "TPLfpuNSGbUv",
        "colab": {
          "base_uri": "https://localhost:8080/"
        },
        "outputId": "d35df0ce-f219-45ed-e1bc-8eda54509656"
      },
      "source": [
        "def getInvCount(arr, n):\n",
        "\n",
        "    inv_count = 0\n",
        "    for i in range(n):\n",
        "        for j in range(i + 1, n):\n",
        "            if (arr[i] > arr[j]):\n",
        "                inv_count += 1\n",
        "\n",
        "    return inv_count\n",
        "\n",
        "\n",
        "# Driver Code\n",
        "arr = [1, 20, 6, 4, 5]\n",
        "n = len(arr)\n",
        "print(\"Number of inversions are\",\n",
        "      getInvCount(arr, n))\n"
      ],
      "execution_count": null,
      "outputs": [
        {
          "output_type": "stream",
          "text": [
            "Number of inversions are 5\n"
          ],
          "name": "stdout"
        }
      ]
    },
    {
      "cell_type": "code",
      "metadata": {
        "colab": {
          "base_uri": "https://localhost:8080/",
          "height": 387
        },
        "id": "nQB9NjDBgx3i",
        "outputId": "5cfdbfcb-d1df-4b71-f2d0-26047ca92667"
      },
      "source": [
        ""
      ],
      "execution_count": null,
      "outputs": [
        {
          "output_type": "error",
          "ename": "TypeError",
          "evalue": "ignored",
          "traceback": [
            "\u001b[0;31m---------------------------------------------------------------------------\u001b[0m",
            "\u001b[0;31mTypeError\u001b[0m                                 Traceback (most recent call last)",
            "\u001b[0;32m<ipython-input-5-8396b9ec0dac>\u001b[0m in \u001b[0;36m<module>\u001b[0;34m()\u001b[0m\n\u001b[1;32m     52\u001b[0m \u001b[0marr\u001b[0m \u001b[0;34m=\u001b[0m \u001b[0;34m[\u001b[0m\u001b[0;36m1\u001b[0m\u001b[0;34m,\u001b[0m \u001b[0;36m20\u001b[0m\u001b[0;34m,\u001b[0m \u001b[0;36m6\u001b[0m\u001b[0;34m,\u001b[0m \u001b[0;36m4\u001b[0m\u001b[0;34m,\u001b[0m \u001b[0;36m5\u001b[0m\u001b[0;34m]\u001b[0m\u001b[0;34m\u001b[0m\u001b[0;34m\u001b[0m\u001b[0m\n\u001b[1;32m     53\u001b[0m \u001b[0mn\u001b[0m \u001b[0;34m=\u001b[0m \u001b[0mlen\u001b[0m\u001b[0;34m(\u001b[0m\u001b[0marr\u001b[0m\u001b[0;34m)\u001b[0m\u001b[0;34m\u001b[0m\u001b[0;34m\u001b[0m\u001b[0m\n\u001b[0;32m---> 54\u001b[0;31m \u001b[0mresult\u001b[0m \u001b[0;34m=\u001b[0m \u001b[0minversioncount\u001b[0m\u001b[0;34m(\u001b[0m\u001b[0marr\u001b[0m\u001b[0;34m,\u001b[0m \u001b[0mn\u001b[0m\u001b[0;34m)\u001b[0m\u001b[0;34m\u001b[0m\u001b[0;34m\u001b[0m\u001b[0m\n\u001b[0m\u001b[1;32m     55\u001b[0m \u001b[0mprint\u001b[0m\u001b[0;34m(\u001b[0m\u001b[0;34m\"Number of inversions are\"\u001b[0m\u001b[0;34m,\u001b[0m \u001b[0mresult\u001b[0m\u001b[0;34m)\u001b[0m\u001b[0;34m\u001b[0m\u001b[0;34m\u001b[0m\u001b[0m\n\u001b[1;32m     56\u001b[0m \u001b[0;34m\u001b[0m\u001b[0m\n",
            "\u001b[0;32m<ipython-input-5-8396b9ec0dac>\u001b[0m in \u001b[0;36minversioncount\u001b[0;34m(arr, n)\u001b[0m\n\u001b[1;32m      1\u001b[0m \u001b[0;32mdef\u001b[0m \u001b[0minversioncount\u001b[0m\u001b[0;34m(\u001b[0m\u001b[0marr\u001b[0m\u001b[0;34m,\u001b[0m\u001b[0mn\u001b[0m\u001b[0;34m)\u001b[0m\u001b[0;34m:\u001b[0m\u001b[0;34m\u001b[0m\u001b[0;34m\u001b[0m\u001b[0m\n\u001b[1;32m      2\u001b[0m   \u001b[0mtemp_arr\u001b[0m \u001b[0;34m=\u001b[0m \u001b[0;34m[\u001b[0m\u001b[0;36m0\u001b[0m\u001b[0;34m]\u001b[0m\u001b[0;34m*\u001b[0m\u001b[0mn\u001b[0m\u001b[0;34m\u001b[0m\u001b[0;34m\u001b[0m\u001b[0m\n\u001b[0;32m----> 3\u001b[0;31m   \u001b[0;32mreturn\u001b[0m \u001b[0mmergesort\u001b[0m\u001b[0;34m(\u001b[0m\u001b[0marr\u001b[0m\u001b[0;34m,\u001b[0m\u001b[0mtemp_arr\u001b[0m\u001b[0;34m,\u001b[0m\u001b[0;36m0\u001b[0m\u001b[0;34m,\u001b[0m\u001b[0mn\u001b[0m\u001b[0;34m-\u001b[0m\u001b[0;36m1\u001b[0m\u001b[0;34m)\u001b[0m\u001b[0;34m\u001b[0m\u001b[0;34m\u001b[0m\u001b[0m\n\u001b[0m\u001b[1;32m      4\u001b[0m \u001b[0;34m\u001b[0m\u001b[0m\n\u001b[1;32m      5\u001b[0m \u001b[0;32mdef\u001b[0m \u001b[0mmergesort\u001b[0m\u001b[0;34m(\u001b[0m\u001b[0marr\u001b[0m\u001b[0;34m,\u001b[0m\u001b[0mtemp_arr\u001b[0m\u001b[0;34m,\u001b[0m\u001b[0mleft\u001b[0m\u001b[0;34m,\u001b[0m\u001b[0mright\u001b[0m\u001b[0;34m)\u001b[0m\u001b[0;34m:\u001b[0m\u001b[0;34m\u001b[0m\u001b[0;34m\u001b[0m\u001b[0m\n",
            "\u001b[0;32m<ipython-input-5-8396b9ec0dac>\u001b[0m in \u001b[0;36mmergesort\u001b[0;34m(arr, temp_arr, left, right)\u001b[0m\n\u001b[1;32m      9\u001b[0m     \u001b[0mmid\u001b[0m \u001b[0;34m=\u001b[0m \u001b[0;34m(\u001b[0m\u001b[0mleft\u001b[0m\u001b[0;34m+\u001b[0m\u001b[0mright\u001b[0m\u001b[0;34m)\u001b[0m\u001b[0;34m//\u001b[0m\u001b[0;36m2\u001b[0m\u001b[0;34m\u001b[0m\u001b[0;34m\u001b[0m\u001b[0m\n\u001b[1;32m     10\u001b[0m \u001b[0;34m\u001b[0m\u001b[0m\n\u001b[0;32m---> 11\u001b[0;31m     \u001b[0mcount\u001b[0m\u001b[0;34m+=\u001b[0m \u001b[0mmergesort\u001b[0m\u001b[0;34m(\u001b[0m\u001b[0marr\u001b[0m\u001b[0;34m,\u001b[0m\u001b[0mtemp_arr\u001b[0m\u001b[0;34m,\u001b[0m\u001b[0mleft\u001b[0m\u001b[0;34m,\u001b[0m\u001b[0mmid\u001b[0m\u001b[0;34m)\u001b[0m\u001b[0;34m\u001b[0m\u001b[0;34m\u001b[0m\u001b[0m\n\u001b[0m\u001b[1;32m     12\u001b[0m     \u001b[0mcount\u001b[0m\u001b[0;34m+=\u001b[0m \u001b[0mmergesort\u001b[0m\u001b[0;34m(\u001b[0m\u001b[0marr\u001b[0m\u001b[0;34m,\u001b[0m\u001b[0mtemp_arr\u001b[0m\u001b[0;34m,\u001b[0m\u001b[0mmid\u001b[0m\u001b[0;34m,\u001b[0m\u001b[0mright\u001b[0m\u001b[0;34m)\u001b[0m\u001b[0;34m\u001b[0m\u001b[0;34m\u001b[0m\u001b[0m\n\u001b[1;32m     13\u001b[0m     \u001b[0mcount\u001b[0m\u001b[0;34m+=\u001b[0m \u001b[0mmerge\u001b[0m\u001b[0;34m(\u001b[0m\u001b[0marr\u001b[0m\u001b[0;34m,\u001b[0m\u001b[0mtemp_arr\u001b[0m\u001b[0;34m,\u001b[0m\u001b[0mleft\u001b[0m\u001b[0;34m,\u001b[0m\u001b[0mmid\u001b[0m\u001b[0;34m,\u001b[0m\u001b[0mright\u001b[0m\u001b[0;34m)\u001b[0m\u001b[0;34m\u001b[0m\u001b[0;34m\u001b[0m\u001b[0m\n",
            "\u001b[0;32m<ipython-input-5-8396b9ec0dac>\u001b[0m in \u001b[0;36mmergesort\u001b[0;34m(arr, temp_arr, left, right)\u001b[0m\n\u001b[1;32m      9\u001b[0m     \u001b[0mmid\u001b[0m \u001b[0;34m=\u001b[0m \u001b[0;34m(\u001b[0m\u001b[0mleft\u001b[0m\u001b[0;34m+\u001b[0m\u001b[0mright\u001b[0m\u001b[0;34m)\u001b[0m\u001b[0;34m//\u001b[0m\u001b[0;36m2\u001b[0m\u001b[0;34m\u001b[0m\u001b[0;34m\u001b[0m\u001b[0m\n\u001b[1;32m     10\u001b[0m \u001b[0;34m\u001b[0m\u001b[0m\n\u001b[0;32m---> 11\u001b[0;31m     \u001b[0mcount\u001b[0m\u001b[0;34m+=\u001b[0m \u001b[0mmergesort\u001b[0m\u001b[0;34m(\u001b[0m\u001b[0marr\u001b[0m\u001b[0;34m,\u001b[0m\u001b[0mtemp_arr\u001b[0m\u001b[0;34m,\u001b[0m\u001b[0mleft\u001b[0m\u001b[0;34m,\u001b[0m\u001b[0mmid\u001b[0m\u001b[0;34m)\u001b[0m\u001b[0;34m\u001b[0m\u001b[0;34m\u001b[0m\u001b[0m\n\u001b[0m\u001b[1;32m     12\u001b[0m     \u001b[0mcount\u001b[0m\u001b[0;34m+=\u001b[0m \u001b[0mmergesort\u001b[0m\u001b[0;34m(\u001b[0m\u001b[0marr\u001b[0m\u001b[0;34m,\u001b[0m\u001b[0mtemp_arr\u001b[0m\u001b[0;34m,\u001b[0m\u001b[0mmid\u001b[0m\u001b[0;34m,\u001b[0m\u001b[0mright\u001b[0m\u001b[0;34m)\u001b[0m\u001b[0;34m\u001b[0m\u001b[0;34m\u001b[0m\u001b[0m\n\u001b[1;32m     13\u001b[0m     \u001b[0mcount\u001b[0m\u001b[0;34m+=\u001b[0m \u001b[0mmerge\u001b[0m\u001b[0;34m(\u001b[0m\u001b[0marr\u001b[0m\u001b[0;34m,\u001b[0m\u001b[0mtemp_arr\u001b[0m\u001b[0;34m,\u001b[0m\u001b[0mleft\u001b[0m\u001b[0;34m,\u001b[0m\u001b[0mmid\u001b[0m\u001b[0;34m,\u001b[0m\u001b[0mright\u001b[0m\u001b[0;34m)\u001b[0m\u001b[0;34m\u001b[0m\u001b[0;34m\u001b[0m\u001b[0m\n",
            "\u001b[0;32m<ipython-input-5-8396b9ec0dac>\u001b[0m in \u001b[0;36mmergesort\u001b[0;34m(arr, temp_arr, left, right)\u001b[0m\n\u001b[1;32m      9\u001b[0m     \u001b[0mmid\u001b[0m \u001b[0;34m=\u001b[0m \u001b[0;34m(\u001b[0m\u001b[0mleft\u001b[0m\u001b[0;34m+\u001b[0m\u001b[0mright\u001b[0m\u001b[0;34m)\u001b[0m\u001b[0;34m//\u001b[0m\u001b[0;36m2\u001b[0m\u001b[0;34m\u001b[0m\u001b[0;34m\u001b[0m\u001b[0m\n\u001b[1;32m     10\u001b[0m \u001b[0;34m\u001b[0m\u001b[0m\n\u001b[0;32m---> 11\u001b[0;31m     \u001b[0mcount\u001b[0m\u001b[0;34m+=\u001b[0m \u001b[0mmergesort\u001b[0m\u001b[0;34m(\u001b[0m\u001b[0marr\u001b[0m\u001b[0;34m,\u001b[0m\u001b[0mtemp_arr\u001b[0m\u001b[0;34m,\u001b[0m\u001b[0mleft\u001b[0m\u001b[0;34m,\u001b[0m\u001b[0mmid\u001b[0m\u001b[0;34m)\u001b[0m\u001b[0;34m\u001b[0m\u001b[0;34m\u001b[0m\u001b[0m\n\u001b[0m\u001b[1;32m     12\u001b[0m     \u001b[0mcount\u001b[0m\u001b[0;34m+=\u001b[0m \u001b[0mmergesort\u001b[0m\u001b[0;34m(\u001b[0m\u001b[0marr\u001b[0m\u001b[0;34m,\u001b[0m\u001b[0mtemp_arr\u001b[0m\u001b[0;34m,\u001b[0m\u001b[0mmid\u001b[0m\u001b[0;34m,\u001b[0m\u001b[0mright\u001b[0m\u001b[0;34m)\u001b[0m\u001b[0;34m\u001b[0m\u001b[0;34m\u001b[0m\u001b[0m\n\u001b[1;32m     13\u001b[0m     \u001b[0mcount\u001b[0m\u001b[0;34m+=\u001b[0m \u001b[0mmerge\u001b[0m\u001b[0;34m(\u001b[0m\u001b[0marr\u001b[0m\u001b[0;34m,\u001b[0m\u001b[0mtemp_arr\u001b[0m\u001b[0;34m,\u001b[0m\u001b[0mleft\u001b[0m\u001b[0;34m,\u001b[0m\u001b[0mmid\u001b[0m\u001b[0;34m,\u001b[0m\u001b[0mright\u001b[0m\u001b[0;34m)\u001b[0m\u001b[0;34m\u001b[0m\u001b[0;34m\u001b[0m\u001b[0m\n",
            "\u001b[0;31mTypeError\u001b[0m: unsupported operand type(s) for +=: 'int' and 'NoneType'"
          ]
        }
      ]
    },
    {
      "cell_type": "code",
      "metadata": {
        "colab": {
          "base_uri": "https://localhost:8080/"
        },
        "id": "y6cwrSBKDL06",
        "outputId": "76e31a81-ce39-4511-d2de-67c8e65abaac"
      },
      "source": [
        "\n",
        "# Python 3 program to count inversions in an array\n",
        "\n",
        "# Function to Use Inversion Count\n",
        "def mergeSort(arr, n):\n",
        "    # A temp_arr is created to store\n",
        "    # sorted array in merge function\n",
        "    temp_arr = [0]*n\n",
        "    return _mergeSort(arr, temp_arr, 0, n-1)\n",
        "\n",
        "# This Function will use MergeSort to count inversions\n",
        "\n",
        "def _mergeSort(arr, temp_arr, left, right):\n",
        "\n",
        "    # A variable inv_count is used to store\n",
        "    # inversion counts in each recursive call\n",
        "\n",
        "    inv_count = 0\n",
        "\n",
        "    # We will make a recursive call if and only if\n",
        "    # we have more than one elements\n",
        "\n",
        "    if left < right:\n",
        "\n",
        "        # mid is calculated to divide the array into two subarrays\n",
        "        # Floor division is must in case of python\n",
        "\n",
        "        mid = (left + right)//2\n",
        "\n",
        "        # It will calculate inversion \n",
        "        # counts in the left subarray\n",
        "\n",
        "        inv_count += _mergeSort(arr, temp_arr, \n",
        "                                    left, mid)\n",
        "\n",
        "        # It will calculate inversion \n",
        "        # counts in right subarray\n",
        "\n",
        "        inv_count += _mergeSort(arr, temp_arr, \n",
        "                                  mid + 1, right)\n",
        "\n",
        "        # It will merge two subarrays in \n",
        "        # a sorted subarray\n",
        "\n",
        "        inv_count += merge(arr, temp_arr, left, mid, right)\n",
        "    return inv_count\n",
        "\n",
        "# This function will merge two subarrays \n",
        "# in a single sorted subarray\n",
        "def merge(arr, temp_arr, left, mid, right):\n",
        "    i = left     # Starting index of left subarray\n",
        "    j = mid + 1 # Starting index of right subarray\n",
        "    k = left     # Starting index of to be sorted subarray\n",
        "    inv_count = 0\n",
        "\n",
        "    # Conditions are checked to make sure that \n",
        "    # i and j don't exceed their\n",
        "    # subarray limits.\n",
        "\n",
        "    while i <= mid and j <= right:\n",
        "\n",
        "        # There will be no inversion if arr[i] <= arr[j]\n",
        "\n",
        "        if arr[i] <= arr[j]:\n",
        "            temp_arr[k] = arr[i]\n",
        "            k += 1\n",
        "            i += 1\n",
        "        else:\n",
        "\n",
        "        #important stepppppppppppppppppppppppppppppppp\n",
        "            # Inversion will occur.\n",
        "            temp_arr[k] = arr[j]\n",
        "            inv_count += (mid-i + 1)\n",
        "            k += 1\n",
        "            j += 1\n",
        "\n",
        "    # Copy the remaining elements of left \n",
        "    # subarray into temporary array\n",
        "    while i <= mid:\n",
        "        temp_arr[k] = arr[i]\n",
        "        k += 1\n",
        "        i += 1\n",
        "\n",
        "    # Copy the remaining elements of right \n",
        "    # subarray into temporary array\n",
        "    while j <= right:\n",
        "        temp_arr[k] = arr[j]\n",
        "        k += 1\n",
        "        j += 1\n",
        "\n",
        "    # Copy the sorted subarray into Original array\n",
        "    for loop_var in range(left, right + 1):\n",
        "        arr[loop_var] = temp_arr[loop_var]\n",
        "        \n",
        "    return inv_count\n",
        "\n",
        "# Driver Code\n",
        "# Given array is\n",
        "arr = [1, 20, 6, 4, 5]\n",
        "n = len(arr)\n",
        "result = mergeSort(arr, n)\n",
        "print(\"Number of inversions are\", result)\n",
        "\n",
        "\n"
      ],
      "execution_count": null,
      "outputs": [
        {
          "output_type": "stream",
          "text": [
            "Number of inversions are 5\n"
          ],
          "name": "stdout"
        }
      ]
    },
    {
      "cell_type": "code",
      "metadata": {
        "colab": {
          "base_uri": "https://localhost:8080/"
        },
        "id": "hspbskgJgqj9",
        "outputId": "87db6b1e-dbba-404d-dacd-d0475389d1f7"
      },
      "source": [
        "def maxProfit(arr,n):\n",
        "  i=0\n",
        "  buy = 0\n",
        "  sell =0\n",
        "  currmin = 0\n",
        "  currprofit =0\n",
        "  maxprofit = 0 \n",
        "\n",
        "  while i<n:\n",
        "    if arr[i]<arr[currmin]:\n",
        "      currmin = i\n",
        "    currprofit = arr[i]-arr[currmin]\n",
        "\n",
        "\n",
        "    if currprofit>maxprofit:\n",
        "      buy = currmin\n",
        "      sell = i\n",
        "      maxprofit = currprofit\n",
        "\n",
        "    i+=1\n",
        "  return arr[sell]-arr[buy]\n",
        "\n",
        "\n",
        "arr = [7,1,5,3,6,4]\n",
        "n = len(arr)\n",
        "\n",
        "print (maxProfit(arr,n))\n"
      ],
      "execution_count": null,
      "outputs": [
        {
          "output_type": "stream",
          "text": [
            "5\n"
          ],
          "name": "stdout"
        }
      ]
    },
    {
      "cell_type": "code",
      "metadata": {
        "id": "vgwepD6ofPTl",
        "colab": {
          "base_uri": "https://localhost:8080/"
        },
        "outputId": "fb4d94a2-088b-4faf-f444-0b2c9ef89b09"
      },
      "source": [
        "def getPairsCount(arr, n, sum):\n",
        " \n",
        "    count = 0  # Initialize result\n",
        " \n",
        "    # Consider all possible pairs\n",
        "    # and check their sums\n",
        "    for i in range(0, n):\n",
        "        for j in range(i + 1, n):\n",
        "            if arr[i] + arr[j] == sum:\n",
        "                count += 1\n",
        " \n",
        "    return count\n",
        " \n",
        " \n",
        "# Driver function\n",
        "arr = [1,1,3,3,3,4,5,5]\n",
        "n = len(arr)\n",
        "sum = 6\n",
        "print(\"Count of pairs is\",\n",
        "      getPairsCount(arr, n, sum))"
      ],
      "execution_count": null,
      "outputs": [
        {
          "output_type": "stream",
          "text": [
            "Count of pairs is 7\n"
          ],
          "name": "stdout"
        }
      ]
    },
    {
      "cell_type": "code",
      "metadata": {
        "id": "Zgufl7v2gtjT",
        "colab": {
          "base_uri": "https://localhost:8080/"
        },
        "outputId": "4da420b0-9c6d-4154-80a0-91782fb3c74c"
      },
      "source": [
        "# Python 3 implementation of simple method\n",
        "# to find count of pairs with given sum.\n",
        "import sys\n",
        " \n",
        "# Returns number of pairs in arr[0..n-1]\n",
        "# with sum equal to 'sum'\n",
        " \n",
        " \n",
        "def getPairsCount(arr, n, sum):\n",
        " \n",
        "    m = [0] * 1000\n",
        " \n",
        "    # Store counts of all elements in map m\n",
        "    for i in range(0, n):\n",
        "        m[arr[i]] += 1\n",
        " \n",
        "    twice_count = 0\n",
        " \n",
        "    # Iterate through each element and increment\n",
        "    # the count (Notice that every pair is\n",
        "    # counted twice)\n",
        "    for i in range(0, n):\n",
        " \n",
        "        twice_count += m[sum - arr[i]]\n",
        " \n",
        "        # if (arr[i], arr[i]) pair satisfies the\n",
        "        # condition, then we need to ensure that\n",
        "        # the count is  decreased by one such\n",
        "        # that the (arr[i], arr[i]) pair is not\n",
        "        # considered\n",
        "        if (sum - arr[i] == arr[i]):\n",
        "            twice_count -= 1\n",
        " \n",
        "    # return the half of twice_count\n",
        "    return int(twice_count / 2)\n",
        " \n",
        " \n",
        "# Driver function\n",
        "arr = [1,1,3,3,3,4,5,5]\n",
        "n = len(arr)\n",
        "sum = 6\n",
        " \n",
        "print(\"Count of pairs is\", getPairsCount(arr,\n",
        "                                         n, sum))\n",
        " \n",
        "# This code is contributed by"
      ],
      "execution_count": null,
      "outputs": [
        {
          "output_type": "stream",
          "text": [
            "Count of pairs is 7\n"
          ],
          "name": "stdout"
        }
      ]
    },
    {
      "cell_type": "code",
      "metadata": {
        "id": "SJ2c3Dw4Z2Tw",
        "colab": {
          "base_uri": "https://localhost:8080/"
        },
        "outputId": "f6b1cd93-0659-465f-fd76-ce58d44e0eb0"
      },
      "source": [
        "def common(A,B,C,n1,n2,n3):\n",
        "  i = 0\n",
        "  j = 0\n",
        "  k = 0\n",
        "  while i<n1 and j<n2 and k<n3:\n",
        "    if A[i]== B[j] and B[j]==C[k]:\n",
        "      print (A[i])\n",
        "      i += 1\n",
        "      j += 1\n",
        "      k += 1\n",
        "         \n",
        "\n",
        "\n",
        "    elif A[i]<B[j]:\n",
        "      i+=1\n",
        "    elif B[j]<C[k]:\n",
        "      j+=1\n",
        "    else:\n",
        "      k+=1\n",
        "A = [1, 5, 10, 20, 40, 80]\n",
        "B = [6, 7, 20, 80, 100]\n",
        "C = [3, 4, 15, 20, 30, 70, 80, 120]\n",
        "n1 = len(A)\n",
        "n2 = len(B)\n",
        "n3 = len(C)\n",
        "\n",
        "common(A,B,C, n1, n2, n3)"
      ],
      "execution_count": null,
      "outputs": [
        {
          "output_type": "stream",
          "text": [
            "20\n",
            "80\n"
          ],
          "name": "stdout"
        }
      ]
    },
    {
      "cell_type": "code",
      "metadata": {
        "colab": {
          "base_uri": "https://localhost:8080/"
        },
        "id": "cukkECtszBo-",
        "outputId": "5c9b0b16-b382-4428-8518-302868057c53"
      },
      "source": [
        "def sumtozero(arr,n):\n",
        "  s = set()\n",
        "\n",
        "\n",
        "  sum =0\n",
        "  for i in range(0,n):\n",
        "    sum+= arr[i]\n",
        "    if sum==0 or sum in s:\n",
        "      return True\n",
        "    s.add(sum) \n",
        "\n",
        "  return False\n",
        "\n",
        "arr = [1, 1, 8, 20, 40, 80]\n",
        "n = len(arr)\n",
        "\n",
        "sumtozero(arr,n)"
      ],
      "execution_count": null,
      "outputs": [
        {
          "output_type": "execute_result",
          "data": {
            "text/plain": [
              "False"
            ]
          },
          "metadata": {
            "tags": []
          },
          "execution_count": 10
        }
      ]
    },
    {
      "cell_type": "code",
      "metadata": {
        "colab": {
          "base_uri": "https://localhost:8080/"
        },
        "id": "je7Tz39k1TSk",
        "outputId": "f28caf9d-822a-4748-b0ff-f3568bc455ca"
      },
      "source": [
        "def factorial(N):\n",
        "        if N==0 or N==1:\n",
        "            return 1\n",
        "        else:\n",
        "            return N*factorial(N-1)\n",
        "\n",
        "N =4\n",
        "factorial(N)\n",
        "        "
      ],
      "execution_count": null,
      "outputs": [
        {
          "output_type": "execute_result",
          "data": {
            "text/plain": [
              "24"
            ]
          },
          "metadata": {
            "tags": []
          },
          "execution_count": 16
        }
      ]
    },
    {
      "cell_type": "code",
      "metadata": {
        "colab": {
          "base_uri": "https://localhost:8080/"
        },
        "id": "OrDWB-YPGyWz",
        "outputId": "9d883cf4-2c40-4037-9f32-4b3e3f4e1ba4"
      },
      "source": [
        "def findLongestConseqSubseq(arr, N):\n",
        "        ans = 0\n",
        "        count=0\n",
        "        arr.sort()\n",
        "        \n",
        "        v = []\n",
        "        v.append(arr[0])\n",
        "        \n",
        "        for i in range(1,n):\n",
        "            if (arr[i]!=arr[i-1]):\n",
        "                v.append(arr[i])\n",
        "        for i in range(len(v)):\n",
        "            if (i > 0 and v[i] == v[i - 1] + 1):\n",
        "                count += 1\n",
        "            else:\n",
        "                count = 1\n",
        "                \n",
        "                \n",
        "            ans = max(ans,count)\n",
        "        return ans\n",
        "\n",
        "arr = [1, 2, 8, 20, 40, 80]\n",
        "N = len(arr)\n",
        "findLongestConseqSubseq(arr, N)\n",
        "\n",
        "  "
      ],
      "execution_count": null,
      "outputs": [
        {
          "output_type": "execute_result",
          "data": {
            "text/plain": [
              "2"
            ]
          },
          "metadata": {
            "tags": []
          },
          "execution_count": 20
        }
      ]
    },
    {
      "cell_type": "code",
      "metadata": {
        "colab": {
          "base_uri": "https://localhost:8080/"
        },
        "id": "tL105GCCrmyR",
        "outputId": "8bf1ba81-25f6-4199-972c-c1403aee97c4"
      },
      "source": [
        "def LCSS(arr,n):\n",
        "  s = set()\n",
        "  ans = 0\n",
        "  for ele in arr:\n",
        "    s.add(ele)\n",
        "  \n",
        "\n",
        "  for i in range(0,n):\n",
        "    if (arr[i]-1) not in s:\n",
        "      j = arr[i]\n",
        "    while j in s:\n",
        "      j+=1\n",
        "    ans = max(ans,j-arr[i])\n",
        "\n",
        "\n",
        "  return ans\n",
        "arr = [1, 2, 8, 20, 40, 80]\n",
        "n = len(arr)\n",
        "LCSS(arr, n)\n",
        "\n",
        "\n",
        "\n",
        "\n"
      ],
      "execution_count": null,
      "outputs": [
        {
          "output_type": "execute_result",
          "data": {
            "text/plain": [
              "2"
            ]
          },
          "metadata": {
            "tags": []
          },
          "execution_count": 2
        }
      ]
    },
    {
      "cell_type": "code",
      "metadata": {
        "id": "GuKa-XGN_BOv"
      },
      "source": [
        "def maxip(arr,n):\n",
        "  maxproduct = 0\n",
        "  currproduct = 0\n",
        "\n",
        "\n",
        "  "
      ],
      "execution_count": null,
      "outputs": []
    },
    {
      "cell_type": "code",
      "metadata": {
        "id": "5vp8gCLOLMdN",
        "colab": {
          "base_uri": "https://localhost:8080/"
        },
        "outputId": "efbe0ca9-2973-4343-9ad5-28c6f7f8fa7c"
      },
      "source": [
        "def countiiii(arr,n,k):\n",
        "  x = n//k\n",
        "  hs = {}\n",
        "        \n",
        "  for i in range(n):\n",
        "      if arr[i] in hs:\n",
        "        hs[arr[i]]+=1\n",
        "      else:\n",
        "        hs[arr[i]] = 1\n",
        "                \n",
        "  for i in hs:\n",
        "    if hs[i]>x:\n",
        "      print(i)\n",
        "                \n",
        "          \n",
        "\n",
        "arr =[3,1,2,2,1,2,3,3]\n",
        "n = len(arr)\n",
        "k = 4\n",
        "countiiii(arr,n,k)\n",
        "    "
      ],
      "execution_count": null,
      "outputs": [
        {
          "output_type": "stream",
          "text": [
            "3\n",
            "2\n"
          ],
          "name": "stdout"
        }
      ]
    },
    {
      "cell_type": "code",
      "metadata": {
        "id": "HA649XmqHeYP"
      },
      "source": [
        "class Solution:\n",
        "    def countOccurence(self,arr, n, k):\n",
        "        count = 0\n",
        "        # k must be greater than 1 to get some output\n",
        "        if k < 2:\n",
        "            return 0\n",
        "    \n",
        "        '''\n",
        "        Step 1: Create a temporary array (contains element \n",
        "    \tand count) of size k-1. Initialize count of all \n",
        "    \telements as 0, count is second value of pair.\n",
        "    \t'''\n",
        "        temp = [[0, 0] for i in range(k - 1)]\n",
        "    \n",
        "        # Step 2: Process all elements of input array\n",
        "        for i in range(n):\n",
        "            '''\n",
        "            If arr[i] is already present in \n",
        "            the element count array, then increment its count\n",
        "            '''\n",
        "            j = 0\n",
        "            while j < k - 1:\n",
        "                if temp[j][0] == arr[i]:\n",
        "                    temp[j][1] += 1\n",
        "                    break\n",
        "                j += 1\n",
        "    \n",
        "            # If arr[i] is not present in temp[]\n",
        "            if j == k - 1:\n",
        "                l = 0\n",
        "                while l < k - 1:\n",
        "                    if temp[l][1] == 0:\n",
        "                        temp[l][0] = arr[i]\n",
        "                        temp[l][1] = 1\n",
        "                        break\n",
        "                    l+=1\n",
        "    \n",
        "    \n",
        "                ''' If all the position in the temp[] are filled, then \n",
        "                     decrease count of every element by 1'''\n",
        "                if l == k - 1:\n",
        "                    for l in range(k-1):\n",
        "                        temp[l][1] -= 1\n",
        "        # Step 3: Check actual counts of potential candidates in temp[]\n",
        "        for i in range(k - 1):\n",
        "            ac = 0  # actual count of elements\n",
        "            for j in range(n):\n",
        "                if arr[j] == temp[i][0]:\n",
        "                    ac += 1\n",
        "            # If actual count is more than n/k, then increment it\n",
        "            if ac > (n // k):\n",
        "                count += 1\n",
        "        return count\n",
        "   "
      ],
      "execution_count": null,
      "outputs": []
    },
    {
      "cell_type": "code",
      "metadata": {
        "id": "Lr4YYZ_uIPwr",
        "colab": {
          "base_uri": "https://localhost:8080/"
        },
        "outputId": "535ce027-663b-4059-9dc6-f181d5cb4ffe"
      },
      "source": [
        " def isSubset( a1, a2, n, m):\n",
        "    hs = {}\n",
        "    \n",
        "    for i in range(0,n):\n",
        "        if a1[i] in hs:\n",
        "            hs[a1[i]]+=1\n",
        "        else:\n",
        "            hs[a1[i]] = 1\n",
        "    for j in range(0,m):\n",
        "        if a2[j] in hs:\n",
        "            return True\n",
        "        else:\n",
        "            return False\n",
        "\n",
        "a1= [589, 5847,595, 959, 258]\n",
        "n = len(a1)\n",
        "a2 = [258, 25]\n",
        "m = len(a2)\n",
        "isSubset(a1,a2,n,m)\n",
        "        \n"
      ],
      "execution_count": null,
      "outputs": [
        {
          "output_type": "execute_result",
          "data": {
            "text/plain": [
              "True"
            ]
          },
          "metadata": {
            "tags": []
          },
          "execution_count": 4
        }
      ]
    },
    {
      "cell_type": "code",
      "metadata": {
        "colab": {
          "base_uri": "https://localhost:8080/"
        },
        "id": "C4RJKCYgvSOB",
        "outputId": "250b384b-f17b-4798-dd25-75d50b97787c"
      },
      "source": [
        " def find3Numbers(A, n, X):\n",
        "        A.sort()\n",
        "        \n",
        "        for i in range(n-2):\n",
        "            l = i+1\n",
        "            r = n-1\n",
        "            while(l<r):\n",
        "                sum = A[i]+A[l]+A[r]\n",
        "                \n",
        "                if sum==X:\n",
        "                    return True\n",
        "                elif sum<X:\n",
        "                    l+=1\n",
        "                else:\n",
        "                    r-=1\n",
        "        return False\n",
        "\n",
        "\n",
        "A = [2,3,6,4,1,5,7,9]\n",
        "n = len(A)\n",
        "X = 99\n",
        "find3Numbers(A, n, X)\n",
        "    \n",
        "\n"
      ],
      "execution_count": null,
      "outputs": [
        {
          "output_type": "execute_result",
          "data": {
            "text/plain": [
              "False"
            ]
          },
          "metadata": {
            "tags": []
          },
          "execution_count": 8
        }
      ]
    },
    {
      "cell_type": "code",
      "metadata": {
        "id": "bkohCnpZDaUH",
        "colab": {
          "base_uri": "https://localhost:8080/"
        },
        "outputId": "4972f950-07b8-496e-938f-2115f5ccb85d"
      },
      "source": [
        "def choco(arr,n,m):\n",
        "  if n==0 and m ==0:\n",
        "    return 0\n",
        "  if n<m:\n",
        "    return -1\n",
        "  \n",
        "\n",
        "  min_diff = arr[n-1]-arr[0]\n",
        "\n",
        "  for i in range(len(arr)-m+1):\n",
        "    min_diff = min(min_diff ,  arr[i + m - 1] - arr[i])\n",
        "  return min_diff\n",
        "\n",
        "\n",
        "\n",
        "arr = [2,3,4,7,9,12,56]\n",
        "n = len(arr)\n",
        "m = 3    \n",
        "choco(arr,n,m)\n",
        "\n",
        "\n",
        "\n"
      ],
      "execution_count": null,
      "outputs": [
        {
          "output_type": "execute_result",
          "data": {
            "text/plain": [
              "2"
            ]
          },
          "metadata": {
            "tags": []
          },
          "execution_count": 1
        }
      ]
    },
    {
      "cell_type": "code",
      "metadata": {
        "id": "KvhTSC66j8Sl"
      },
      "source": [
        "def trapppingWater(arr,n):\n",
        "  # if n<3:\n",
        "  #   return 0\n",
        "\n",
        "  left = [0]*n\n",
        "  right = [0]*n\n",
        "  water = 0\n",
        "\n",
        "\n",
        "  left[0]= arr[0]\n",
        "  for i in range(1,n):\n",
        "    left[i] = max(left[i-1],arr[i])\n",
        "  right[n-1] = arr[n-1]\n",
        "  for i in range(n-2, -1, -1):\n",
        "    right[i] = max(right[i+1], arr[i]); \n",
        "\n",
        "  for i in range(0,n):\n",
        "    water+= min(left[i],right[i]-arr[i])\n",
        "\n",
        "  return water\n",
        "\n",
        "\n",
        "\n",
        "arr = [7,4,0,9]\n",
        "n = len(arr)\n",
        "trapppingWater(arr,n)\n",
        "\n",
        "\n",
        "\n"
      ],
      "execution_count": null,
      "outputs": []
    },
    {
      "cell_type": "code",
      "metadata": {
        "id": "7N0O5feXvBMD"
      },
      "source": [
        "class Solution:\n",
        "    #Function to partition the array around the range such \n",
        "    #that array is divided into three parts.\n",
        "\tdef threeWayPartition(self, array, a, b):\n",
        "\t    n =len(array)\n",
        "\t    mid = 0\n",
        "\t    low = 0\n",
        "\t    high = n-1\n",
        "\t    \n",
        "\t    while mid<=high:\n",
        "        \n",
        "\n",
        "\t        if array[mid]<a:\n",
        "\t            array[mid],array[low]= array[low],array[mid]\n",
        "\t            mid+=1\n",
        "\t            low+=1\n",
        "\t        elif array[mid]>b:\n",
        "\t            array[mid],array[high] = array[high],array[mid]\n",
        "\t            high-=1\n",
        "\t            \n",
        "\t        else:\n",
        "\t            mid+=1\n",
        "\t            \n"
      ],
      "execution_count": null,
      "outputs": []
    },
    {
      "cell_type": "code",
      "metadata": {
        "id": "ukACrgfB16hH"
      },
      "source": [
        "def subseti(arr,n,x):\n",
        "  "
      ],
      "execution_count": null,
      "outputs": []
    },
    {
      "cell_type": "code",
      "metadata": {
        "colab": {
          "base_uri": "https://localhost:8080/"
        },
        "id": "0rKy-gxff5v3",
        "outputId": "ee23688f-3ced-4e40-e3be-2c5083b9789f"
      },
      "source": [
        "def mergepalin(arr,n):\n",
        "  left = 0\n",
        "  right = n-1\n",
        "  ans= 0\n",
        "\n",
        "\n",
        "  while left<=right:\n",
        "    if arr[left]== arr[right]:\n",
        "      left+=1\n",
        "      right-=1\n",
        "    elif arr[left]>arr[right]:\n",
        "      right-=1\n",
        "      arr[j]+=arr[j+1]\n",
        "      ans+=1\n",
        "    else:\n",
        "      left+=1\n",
        "      arr[left] += arr[left-1]\n",
        "      ans += 1\n",
        "  return ans\n",
        "\n",
        "\n",
        "\n",
        "arr = [1,4,5,1]\n",
        "n = len(arr)\n",
        "mergepalin(arr,n)\n"
      ],
      "execution_count": 1,
      "outputs": [
        {
          "output_type": "execute_result",
          "data": {
            "text/plain": [
              "1"
            ]
          },
          "metadata": {
            "tags": []
          },
          "execution_count": 1
        }
      ]
    },
    {
      "cell_type": "code",
      "metadata": {
        "id": "w3GLiLx7gAVH"
      },
      "source": [
        "def"
      ],
      "execution_count": null,
      "outputs": []
    }
  ]
}