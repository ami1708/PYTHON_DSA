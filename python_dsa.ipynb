{
  "nbformat": 4,
  "nbformat_minor": 0,
  "metadata": {
    "colab": {
      "name": "python_dsa.ipynb",
      "provenance": [],
      "collapsed_sections": [],
      "authorship_tag": "ABX9TyNFLw3mcOLj4JIVHt7TzpBh",
      "include_colab_link": true
    },
    "kernelspec": {
      "display_name": "Python 3",
      "name": "python3"
    },
    "language_info": {
      "name": "python"
    }
  },
  "cells": [
    {
      "cell_type": "markdown",
      "metadata": {
        "id": "view-in-github",
        "colab_type": "text"
      },
      "source": [
        "<a href=\"https://colab.research.google.com/github/ami1708/PYTHON_DSA/blob/main/python_dsa.ipynb\" target=\"_parent\"><img src=\"https://colab.research.google.com/assets/colab-badge.svg\" alt=\"Open In Colab\"/></a>"
      ]
    },
    {
      "cell_type": "code",
      "metadata": {
        "colab": {
          "base_uri": "https://localhost:8080/"
        },
        "id": "9mh6-IHwVcNQ",
        "outputId": "aaf375fd-e925-4ece-db01-8f923fd2ecc0"
      },
      "source": [
        "def reverse(s,start,end):\n",
        "  if start>=end:\n",
        "    return \n",
        "\n",
        "  s[start],s[end] = s[end],s[start]\n",
        "  return reverse(s,start+1,end-1)\n",
        "s = [1, 2, 3, 4, 5, 6]\n",
        "print(s)\n",
        "reverse(s, 0, 5)\n",
        "print(\"Reversed list is\")\n",
        "print(s)\n",
        "\n"
      ],
      "execution_count": null,
      "outputs": [
        {
          "output_type": "stream",
          "text": [
            "[1, 2, 3, 4, 5, 6]\n",
            "Reversed list is\n",
            "[6, 5, 4, 3, 2, 1]\n"
          ],
          "name": "stdout"
        }
      ]
    },
    {
      "cell_type": "code",
      "metadata": {
        "id": "q46Wi6AcWye9"
      },
      "source": [
        ""
      ],
      "execution_count": null,
      "outputs": []
    },
    {
      "cell_type": "code",
      "metadata": {
        "colab": {
          "base_uri": "https://localhost:8080/"
        },
        "id": "5Or08ngnlrf0",
        "outputId": "9884505b-759c-4558-a4a4-9106b6ed1ed6"
      },
      "source": [
        "def countSquares(m, n):\n",
        "     \n",
        "    # If n is smaller, swap m and n\n",
        "    if(n < m):\n",
        "        temp = m\n",
        "        m = n\n",
        "        n = temp\n",
        "         \n",
        "    # Now n is greater dimension,\n",
        "    # apply formula\n",
        "    return ((m * (m + 1) * (2 * m + 1) /\n",
        "           6 + (n - m) * m * (m + 1) / 2))\n",
        " \n",
        "# Driver Code\n",
        "if __name__=='__main__':\n",
        "    m = 7\n",
        "    A contestant in a cycle race starts and cycles 3 km North, then turns East and cycles 5.5 km, \n",
        "    then turns South and cycles \n",
        "    3 km, then turns to his left and cycles 7 km. Where is he now with respect to the starting position?\n",
        "    n = 8\n",
        "    print(\"Count of squares is \"\n",
        "         ,countSquares(m, n))\n",
        " "
      ],
      "execution_count": null,
      "outputs": [
        {
          "output_type": "stream",
          "text": [
            "Count of squares is  168.0\n"
          ],
          "name": "stdout"
        }
      ]
    },
    {
      "cell_type": "code",
      "metadata": {
        "colab": {
          "base_uri": "https://localhost:8080/"
        },
        "id": "rZg56j73WGtj",
        "outputId": "252519db-1a8d-4f73-846c-100c73f6a473"
      },
      "source": [
        "class pair:\n",
        "    def __init__(self):\n",
        "        self.min = 0\n",
        "        self.max = 0\n",
        " \n",
        "def getMinMax(arr: list, n: int) -> pair:\n",
        "    minmax = pair()\n",
        " \n",
        "    # If there is only one element then return it as min and max both\n",
        "    if n == 1:\n",
        "        minmax.max = arr[0]\n",
        "        minmax.min = arr[0]\n",
        "        return minmax\n",
        " \n",
        "    # If there are more than one elements, then initialize min\n",
        "    # and max\n",
        "    if arr[0] > arr[1]:\n",
        "        minmax.max = arr[0]\n",
        "        minmax.min = arr[1]\n",
        "    else:\n",
        "        minmax.max = arr[1]\n",
        "        minmax.min = arr[0]\n",
        " \n",
        "    for i in range(2, n):\n",
        "        if arr[i] > minmax.max:\n",
        "            minmax.max = arr[i]\n",
        "        elif arr[i] < minmax.min:\n",
        "            minmax.min = arr[i]\n",
        " \n",
        "    return minmax\n",
        " \n",
        "# Driver Code\n",
        "if __name__ == \"__main__\":\n",
        "    arr = [1000, 11, 445, 1, 330, 3000]\n",
        "    arr_size = 6\n",
        "    minmax = getMinMax(arr, arr_size)\n",
        "    print(\"Minimum element is\", minmax.min)\n",
        "    print(\"Maximum element is\", minmax.max)\n",
        " "
      ],
      "execution_count": null,
      "outputs": [
        {
          "output_type": "stream",
          "text": [
            "Minimum element is 1\n",
            "Maximum element is 3000\n"
          ],
          "name": "stdout"
        }
      ]
    },
    {
      "cell_type": "code",
      "metadata": {
        "colab": {
          "base_uri": "https://localhost:8080/"
        },
        "id": "NzuWiHKSmd_Z",
        "outputId": "d3bfae39-ffef-4980-cc46-d727788c7638"
      },
      "source": [
        "def minmax(arr,n):\n",
        "  min = 0\n",
        "  max = 0\n",
        "  if n ==1:\n",
        "    min = arr[0]\n",
        "    max = arr[0]\n",
        "  \n",
        "\n",
        "  if arr[0]>arr[1]:\n",
        "    min = arr[1]\n",
        "    max = arr[0]\n",
        "\n",
        "  for i in range(2,n):\n",
        "    if arr[i]>max:\n",
        "      max = arr[i]\n",
        "    elif arr[i]<min:\n",
        "      min = arr[i]\n",
        "  print(\" Minimum element\", min);\n",
        "  print(\" Maximum element\", max);\n",
        "\n",
        "\n",
        "\n",
        "if __name__ == \"__main__\":\n",
        "    arr = [1000, 11, 445, 1, 330, 3000]\n",
        "    n = 6\n",
        "    minmax(arr,n)\n",
        "    \n",
        " "
      ],
      "execution_count": null,
      "outputs": [
        {
          "output_type": "stream",
          "text": [
            " Minimum element 1\n",
            " Maximum element 3000\n"
          ],
          "name": "stdout"
        }
      ]
    },
    {
      "cell_type": "code",
      "metadata": {
        "colab": {
          "base_uri": "https://localhost:8080/"
        },
        "id": "1YDcI2JeqwyK",
        "outputId": "c8745179-f303-4f3f-a9d2-3a60e3f9ea61"
      },
      "source": [
        "import random\n",
        "class Solution:\n",
        "    def swap(self,arr, a, b): \n",
        "        temp = arr[a] \n",
        "        arr[a] = arr[b] \n",
        "        arr[b] = temp \n",
        "      \n",
        "    def randomPartition(self,arr, l, r): \n",
        "        n = r - l + 1\n",
        "        pivot = int(random.random() % n)  \n",
        "        self.swap(arr, l + pivot, r)  \n",
        "        return self.partition(arr, l, r) \n",
        "    def kthSmallest(self,arr, l, r, k): \n",
        "        if (k > 0 and k <= r - l + 1): \n",
        "              \n",
        "            pos = self.randomPartition(arr, l, r)  \n",
        "            if (pos - l == k - 1):  \n",
        "                return arr[pos]  \n",
        "            if (pos - l > k - 1):  \n",
        "                                 \n",
        "                return self.kthSmallest(arr, l, pos - 1, k)  \n",
        "      \n",
        "            \n",
        "            return self.kthSmallest(arr, pos + 1, r,  \n",
        "                               k - pos + l - 1) \n",
        "      \n",
        "        return 999999999999\n",
        "      \n",
        "    def partition(self,arr, l, r): \n",
        "        x = arr[r] \n",
        "        i = l \n",
        "        for j in range(l, r): \n",
        "            if (arr[j] <= x): \n",
        "                self.swap(arr, i, j)  \n",
        "                i += 1\n",
        "        self.swap(arr, i, r)  \n",
        "        return i \n",
        "    \n",
        "\n",
        "arr = [12,13,7,8,10,3]\n",
        "n = 6\n",
        "k = 3\n",
        "ob = Solution()\n",
        "print(ob.kthSmallest(arr,0,n-1,k))\n"
      ],
      "execution_count": null,
      "outputs": [
        {
          "output_type": "stream",
          "text": [
            "8\n"
          ],
          "name": "stdout"
        }
      ]
    },
    {
      "cell_type": "code",
      "metadata": {
        "id": "-dkpiPYMp-Dl"
      },
      "source": [
        "class Solution:\n",
        "    def sort012(self,arr,n):\n",
        "        high= n-1\n",
        "        low = 0\n",
        "        mid = 0\n",
        "        \n",
        "        \n",
        "        while mid<=high:\n",
        "            if arr[mid] == 0:\n",
        "                arr[mid],arr[low] = arr[low],arr[mid]\n",
        "                mid+=1\n",
        "                low+=1\n",
        "            elif arr[mid]==1:\n",
        "                mid+=1\n",
        "            else:\n",
        "                arr[mid],arr[high] = arr[high],arr[mid]\n",
        "                high-=1\n",
        "                \n",
        "        \n",
        "      "
      ],
      "execution_count": null,
      "outputs": []
    },
    {
      "cell_type": "code",
      "metadata": {
        "colab": {
          "base_uri": "https://localhost:8080/"
        },
        "id": "uU_2oEZN58tB",
        "outputId": "200f3ec6-9c3a-453d-dd08-33973f3217af"
      },
      "source": [
        "\n",
        "# A Python 3 program to put\n",
        "# all negative numbers before\n",
        "# positive numbers\n",
        " \n",
        "def rearrange(arr, n ) :\n",
        " \n",
        "    # Please refer partition() in\n",
        "    # below post\n",
        "    # https://www.geeksforgeeks.org / quick-sort / j = 0\n",
        "    j = 0\n",
        "    for i in range(0, n) :\n",
        "        if (arr[i] < 0) :\n",
        "            temp = arr[i]\n",
        "            arr[i] = arr[j]\n",
        "            arr[j]= temp\n",
        "            j = j + 1\n",
        "    print(arr)\n",
        " \n",
        "# Driver code\n",
        "arr = [-1, 2, -3, 4, 5, 6, -7, 8, 9]\n",
        "n = len(arr)\n",
        "rearrange(arr, n)\n",
        " "
      ],
      "execution_count": null,
      "outputs": [
        {
          "output_type": "stream",
          "text": [
            "[-1, -3, -7, 4, 5, 6, 2, 8, 9]\n"
          ],
          "name": "stdout"
        }
      ]
    },
    {
      "cell_type": "code",
      "metadata": {
        "colab": {
          "base_uri": "https://localhost:8080/"
        },
        "id": "cLH0lDPjy0Z2",
        "outputId": "0a4edaae-c6e4-49d7-9e0b-941b9d50989e"
      },
      "source": [
        "def segre(arr,n):\n",
        "  j = 0\n",
        "  for i in range(0,n):\n",
        "    if(arr[i]<0):\n",
        "      temp = arr[i]\n",
        "      arr[i] = arr[j]\n",
        "      arr[j]= temp\n",
        "      j+=1\n",
        "\n",
        "  print(arr)\n",
        "arr = [ -1,-3,-4,7,-3,8,9,-2]\n",
        "n = len(arr)\n",
        "segre(arr,n)"
      ],
      "execution_count": null,
      "outputs": [
        {
          "output_type": "stream",
          "text": [
            "[-1, -3, -4, -3, -2, 8, 9, 7]\n"
          ],
          "name": "stdout"
        }
      ]
    },
    {
      "cell_type": "code",
      "metadata": {
        "colab": {
          "base_uri": "https://localhost:8080/"
        },
        "id": "PSVN2nBc6SA1",
        "outputId": "a9f63eda-93c6-4e5f-942f-ea1327db4e8e"
      },
      "source": [
        "def segr(arr,n):\n",
        "  left = 0\n",
        "  right = n-1\n",
        "\n",
        "  while left<=right:\n",
        "\n",
        "    if arr[left]<0 and arr[right]<0:\n",
        "      left+=1\n",
        "    elif arr[left]>0 and arr[right]<0:\n",
        "      temp =  arr[left]\n",
        "      arr[left] = arr[right]\n",
        "      arr[right] = temp\n",
        "      left+=1\n",
        "      right-=1\n",
        "    else:\n",
        "      right-=1\n",
        "\n",
        "  print(arr)\n",
        "arr = [ -1,-3,-4,7,-3,8,9,-2,9,-11]\n",
        "n = len(arr)\n",
        "segr(arr,n)\n",
        "\n",
        "    "
      ],
      "execution_count": null,
      "outputs": [
        {
          "output_type": "stream",
          "text": [
            "[-1, -3, -4, -11, -3, -2, 9, 8, 9, 7]\n"
          ],
          "name": "stdout"
        }
      ]
    },
    {
      "cell_type": "code",
      "metadata": {
        "id": "5mP8CwVp6XUj"
      },
      "source": [
        "use hash map then do "
      ],
      "execution_count": null,
      "outputs": []
    },
    {
      "cell_type": "code",
      "metadata": {
        "colab": {
          "base_uri": "https://localhost:8080/"
        },
        "id": "wXqwmkV5kPfn",
        "outputId": "b234024c-cec6-4925-8540-a200d86881a3"
      },
      "source": [
        "def rotate( arr, n):\n",
        "    x = arr[n-1]\n",
        "    for i in range(n-1,0,-1):\n",
        "        arr[i] = arr[i-1]\n",
        "    arr[0]=x\n",
        "    return arr\n",
        "    \n",
        "\n",
        "\n",
        "\n",
        "arr = [1,2,3,54,5]\n",
        "n = len(arr)\n",
        "rotate(arr,n)"
      ],
      "execution_count": null,
      "outputs": [
        {
          "output_type": "execute_result",
          "data": {
            "text/plain": [
              "[5, 1, 2, 3, 54]"
            ]
          },
          "metadata": {
            "tags": []
          },
          "execution_count": 7
        }
      ]
    },
    {
      "cell_type": "markdown",
      "metadata": {
        "id": "Ivxkv3Gtkyfm"
      },
      "source": [
        ""
      ]
    },
    {
      "cell_type": "code",
      "metadata": {
        "colab": {
          "base_uri": "https://localhost:8080/",
          "height": 203
        },
        "id": "zLS_jEUfkqT3",
        "outputId": "a2ced7de-d9c5-4c49-9ff8-36d042827854"
      },
      "source": [
        "#User function Template for python3\n",
        "\n",
        "class Solution:\n",
        "    #Function to find the sum of contiguous subarray with maximum sum.\n",
        "    def maxi(self,a,size): \n",
        "           \n",
        "        max_so_far = -9999999 - 1\n",
        "        max_ending_here = 0\n",
        "        \n",
        "        #Iterating over the array. \n",
        "        for i in range(0, size): \n",
        "            #Updating max sum till current index.\n",
        "            max_ending_here = max_ending_here + a[i]\n",
        "            \n",
        "            #Storing max sum so far by choosing maximum between max \n",
        "            #sum so far and max sum till current index.\n",
        "            if (max_so_far < max_ending_here): \n",
        "                max_so_far = max_ending_here \n",
        "        \n",
        "            #If max sum till current index is negative, we do not need to add\n",
        "            #it to result so we update it to zero.\n",
        "            if max_ending_here < 0: \n",
        "                max_ending_here = 0   \n",
        "        \n",
        "        #returning the result.\n",
        "        return max_so_far\n",
        " \n",
        "\n",
        "a = [1,2,3,4,5,67]\n",
        "size = len(a)\n",
        "print(\"subaaray is\" ,maxi(a,size))\n"
      ],
      "execution_count": null,
      "outputs": [
        {
          "output_type": "error",
          "ename": "NameError",
          "evalue": "ignored",
          "traceback": [
            "\u001b[0;31m---------------------------------------------------------------------------\u001b[0m",
            "\u001b[0;31mNameError\u001b[0m                                 Traceback (most recent call last)",
            "\u001b[0;32m<ipython-input-5-58fe8de17bbf>\u001b[0m in \u001b[0;36m<module>\u001b[0;34m()\u001b[0m\n\u001b[1;32m     29\u001b[0m \u001b[0ma\u001b[0m \u001b[0;34m=\u001b[0m \u001b[0;34m[\u001b[0m\u001b[0;36m1\u001b[0m\u001b[0;34m,\u001b[0m\u001b[0;36m2\u001b[0m\u001b[0;34m,\u001b[0m\u001b[0;36m3\u001b[0m\u001b[0;34m,\u001b[0m\u001b[0;36m4\u001b[0m\u001b[0;34m,\u001b[0m\u001b[0;36m5\u001b[0m\u001b[0;34m,\u001b[0m\u001b[0;36m67\u001b[0m\u001b[0;34m]\u001b[0m\u001b[0;34m\u001b[0m\u001b[0;34m\u001b[0m\u001b[0m\n\u001b[1;32m     30\u001b[0m \u001b[0msize\u001b[0m \u001b[0;34m=\u001b[0m \u001b[0mlen\u001b[0m\u001b[0;34m(\u001b[0m\u001b[0ma\u001b[0m\u001b[0;34m)\u001b[0m\u001b[0;34m\u001b[0m\u001b[0;34m\u001b[0m\u001b[0m\n\u001b[0;32m---> 31\u001b[0;31m \u001b[0mprint\u001b[0m\u001b[0;34m(\u001b[0m\u001b[0;34m\"subaaray is\"\u001b[0m \u001b[0;34m,\u001b[0m\u001b[0mmaxi\u001b[0m\u001b[0;34m(\u001b[0m\u001b[0ma\u001b[0m\u001b[0;34m,\u001b[0m\u001b[0msize\u001b[0m\u001b[0;34m)\u001b[0m\u001b[0;34m)\u001b[0m\u001b[0;34m\u001b[0m\u001b[0;34m\u001b[0m\u001b[0m\n\u001b[0m",
            "\u001b[0;31mNameError\u001b[0m: name 'maxi' is not defined"
          ]
        }
      ]
    },
    {
      "cell_type": "code",
      "metadata": {
        "colab": {
          "base_uri": "https://localhost:8080/",
          "height": 370
        },
        "id": "ZazGu7dA4fwq",
        "outputId": "77f1063e-73da-43cd-851a-b74bedf0ea0d"
      },
      "source": [
        "def mini(arr,n,k):\n",
        "  if (n==1):\n",
        "    return 0 \n",
        "  arr.sort()\n",
        "\n",
        "\n",
        "  ans = arr[n-1]-arr[0]\n",
        "\n",
        "  small = arr[0]+k\n",
        "  big = arr[n-1]-k\n",
        "\n",
        "  if (small>big):\n",
        "    small,big = big,small\n",
        "\n",
        "  for i in range(1,n-1):\n",
        "    add = arr[i]+k\n",
        "    subtract = arr[i]-k\n",
        "\n",
        "\n",
        "    if (subtract>=small and big>=add):\n",
        "      continue\n",
        "\n",
        "  \n",
        "    if (big-subtract<= add-small):\n",
        "\n",
        "      small = subtract\n",
        "\n",
        "    else:\n",
        "\n",
        "\n",
        "      big =add\n",
        "\n",
        "  return min(ans,big-small)\n",
        "\n",
        "\n",
        "arr = [ 4, 6 ]\n",
        "n = len(arr)\n",
        "k = 10\n",
        " \n",
        "print(\"Maximum difference is\", mini(arr, n, k))\n",
        "\n"
      ],
      "execution_count": null,
      "outputs": [
        {
          "output_type": "error",
          "ename": "AttributeError",
          "evalue": "ignored",
          "traceback": [
            "\u001b[0;31m---------------------------------------------------------------------------\u001b[0m",
            "\u001b[0;31mAttributeError\u001b[0m                            Traceback (most recent call last)",
            "\u001b[0;32m<ipython-input-9-7f15a4e03088>\u001b[0m in \u001b[0;36m<module>\u001b[0;34m()\u001b[0m\n\u001b[1;32m     39\u001b[0m \u001b[0mk\u001b[0m \u001b[0;34m=\u001b[0m \u001b[0;36m10\u001b[0m\u001b[0;34m\u001b[0m\u001b[0;34m\u001b[0m\u001b[0m\n\u001b[1;32m     40\u001b[0m \u001b[0;34m\u001b[0m\u001b[0m\n\u001b[0;32m---> 41\u001b[0;31m \u001b[0mprint\u001b[0m\u001b[0;34m(\u001b[0m\u001b[0;34m\"Maximum difference is\"\u001b[0m\u001b[0;34m,\u001b[0m \u001b[0mmini\u001b[0m\u001b[0;34m(\u001b[0m\u001b[0marr\u001b[0m\u001b[0;34m,\u001b[0m \u001b[0mn\u001b[0m\u001b[0;34m,\u001b[0m \u001b[0mk\u001b[0m\u001b[0;34m)\u001b[0m\u001b[0;34m)\u001b[0m\u001b[0;34m\u001b[0m\u001b[0;34m\u001b[0m\u001b[0m\n\u001b[0m\u001b[1;32m     42\u001b[0m \u001b[0;34m\u001b[0m\u001b[0m\n",
            "\u001b[0;32m<ipython-input-9-7f15a4e03088>\u001b[0m in \u001b[0;36mmini\u001b[0;34m(arr, n, k)\u001b[0m\n\u001b[1;32m     32\u001b[0m       \u001b[0mbig\u001b[0m \u001b[0;34m=\u001b[0m\u001b[0madd\u001b[0m\u001b[0;34m\u001b[0m\u001b[0;34m\u001b[0m\u001b[0m\n\u001b[1;32m     33\u001b[0m \u001b[0;34m\u001b[0m\u001b[0m\n\u001b[0;32m---> 34\u001b[0;31m   \u001b[0;32mreturn\u001b[0m \u001b[0mmin\u001b[0m\u001b[0;34m(\u001b[0m\u001b[0mans\u001b[0m\u001b[0;34m,\u001b[0m\u001b[0mbig\u001b[0m\u001b[0;34m-\u001b[0m\u001b[0msmall\u001b[0m\u001b[0;34m,\u001b[0m\u001b[0mk\u001b[0m\u001b[0;34m)\u001b[0m\u001b[0;34m\u001b[0m\u001b[0;34m\u001b[0m\u001b[0m\n\u001b[0m\u001b[1;32m     35\u001b[0m \u001b[0;34m\u001b[0m\u001b[0m\n\u001b[1;32m     36\u001b[0m \u001b[0;34m\u001b[0m\u001b[0m\n",
            "\u001b[0;32m<ipython-input-7-c89702f45bb2>\u001b[0m in \u001b[0;36mmin\u001b[0;34m(arr, n, k)\u001b[0m\n\u001b[1;32m      4\u001b[0m \u001b[0;34m\u001b[0m\u001b[0m\n\u001b[1;32m      5\u001b[0m \u001b[0;34m\u001b[0m\u001b[0m\n\u001b[0;32m----> 6\u001b[0;31m   \u001b[0marr\u001b[0m\u001b[0;34m.\u001b[0m\u001b[0msort\u001b[0m\u001b[0;34m(\u001b[0m\u001b[0;34m)\u001b[0m\u001b[0;34m\u001b[0m\u001b[0;34m\u001b[0m\u001b[0m\n\u001b[0m\u001b[1;32m      7\u001b[0m \u001b[0;34m\u001b[0m\u001b[0m\n\u001b[1;32m      8\u001b[0m \u001b[0;34m\u001b[0m\u001b[0m\n",
            "\u001b[0;31mAttributeError\u001b[0m: 'int' object has no attribute 'sort'"
          ]
        }
      ]
    },
    {
      "cell_type": "code",
      "metadata": {
        "colab": {
          "base_uri": "https://localhost:8080/"
        },
        "id": "wWPZSzMGLbS3",
        "outputId": "c30c7e6a-76e2-45d0-a302-fbb0e038f720"
      },
      "source": [
        "class Solution:\n",
        "    def getMinDiff(self, arr, n, k):\n",
        "        # code here\n",
        "        v = []\n",
        "        taken = [0]*n\n",
        "        \n",
        "        for i in range(n):\n",
        "            if arr[i]-k >= 0:\n",
        "                v.append([arr[i]-k,i])\n",
        "            v.append([arr[i] + k,i])\n",
        "            \n",
        "        \n",
        "        v.sort()\n",
        "        \n",
        "        elements_in_range = 0;\n",
        "        left = 0\n",
        "        right = 0\n",
        "        \n",
        "        while elements_in_range < n and right < len(v) :\n",
        "            \n",
        "            if taken[v[right][1]] == 0 :\n",
        "                elements_in_range+=1;\n",
        "            \n",
        "            taken[v[right][1]]+=1;\n",
        "            right+=1;\n",
        "        \n",
        "        \n",
        "        ans = v[right - 1][0] - v[left][0]\n",
        "        \n",
        "        while right < len(v) :\n",
        "    \n",
        "            if(taken[v[left][1]] == 1) :\n",
        "                elements_in_range-=1;\n",
        "            \n",
        "            taken[v[left][1]]-=1;\n",
        "            left+=1\n",
        "            \n",
        "            while elements_in_range < n and right < len(v) : \n",
        "                if taken[v[right][1]] == 0 :\n",
        "                    elements_in_range+=1\n",
        "                \n",
        "                taken[v[right][1]]+=1\n",
        "                right+=1\n",
        "            \n",
        "            \n",
        "            if(elements_in_range == n) : \n",
        "                ans = min(ans, v[right - 1][0] - v[left][0])\n",
        "            else :\n",
        "                break\n",
        "            \n",
        "        \n",
        "        return ans\n",
        "        # code here\n",
        "\n",
        "#{ \n",
        "#  Driver Code Starts\n",
        "#Initial Template for Python 3\n",
        "\n",
        "if __name__ == '__main__':\n",
        "    tc = int(input())\n",
        "    while tc > 0:\n",
        "        k = int(input())\n",
        "        n = int(input())\n",
        "        arr = list(map(int, input().strip().split()))\n",
        "        ob = Solution()\n",
        "        ans = ob.getMinDiff(arr, n, k)\n",
        "        print(ans)"
      ],
      "execution_count": null,
      "outputs": [
        {
          "output_type": "stream",
          "text": [
            "1\n",
            "4\n",
            "4\n",
            "8 10 12 15\n",
            "5\n"
          ],
          "name": "stdout"
        }
      ]
    },
    {
      "cell_type": "code",
      "metadata": {
        "colab": {
          "base_uri": "https://localhost:8080/"
        },
        "id": "SGe-QXQm4oXS",
        "outputId": "d5e04ce7-005a-45a8-ff98-07afb52cfcfe"
      },
      "source": [
        "\n",
        "def merge(M, N, A, B):\n",
        "\n",
        "    # Traverse first array and check each element\n",
        "\n",
        "    for i in range(M):\n",
        "\n",
        "        # check if first element of second array\n",
        "        # is smaller\n",
        "\n",
        "        if A[i] > B[0]:\n",
        "\n",
        "            A[i], B[0] = B[0], A[i]\n",
        "\n",
        "            j = 0\n",
        "\n",
        "            # shift B[0 ] to its correct position in\n",
        "            # second array\n",
        "\n",
        "            while j + 1 < N and B[j] > B[j + 1]:\n",
        "\n",
        "                B[j], B[j + 1] = B[j + 1], B[j]\n",
        "                j = j + 1\n",
        "\n",
        "            # Print resultant array\n",
        "\n",
        "            print(A)\n",
        "            print(B)\n",
        "\n",
        "\n",
        "M = 0\n",
        "N = 0\n",
        "\n",
        "# input size of both the arrays\n",
        "\n",
        "M = int(input())\n",
        "\n",
        "N = int(input())\n",
        "\n",
        "# input both the arrays\n",
        "\n",
        "A = []\n",
        "B = []\n",
        "\n",
        "for i in range(M):\n",
        "    temp = int(input())\n",
        "    A.append(temp)\n",
        "\n",
        "for i in range(N):\n",
        "    temp = int(input())\n",
        "    B.append(temp)\n",
        "\n",
        "# Function call\n",
        "\n",
        "merge(M, N, A, B)"
      ],
      "execution_count": null,
      "outputs": [
        {
          "output_type": "stream",
          "text": [
            "3\n",
            "4\n",
            "1\n",
            "4\n",
            "7\n",
            "2\n",
            "8\n",
            "10\n",
            "12\n",
            "[1, 2, 7]\n",
            "[4, 8, 10, 12]\n",
            "[1, 2, 4]\n",
            "[7, 8, 10, 12]\n"
          ],
          "name": "stdout"
        }
      ]
    },
    {
      "cell_type": "code",
      "metadata": {
        "colab": {
          "base_uri": "https://localhost:8080/",
          "height": 434
        },
        "id": "t5eSZ6hN7vk1",
        "outputId": "406c2815-69e0-4c6e-d98e-ad4bdb38d10b"
      },
      "source": [
        "def mergearrays(A,B,M,N):\n",
        "  \n",
        "\n",
        "  for i in range(N-1, -1, -1):\n",
        "    last = A[M-1]\n",
        "    j = M-2\n",
        "    while(j >= 0 and A[j] > A[i]):\n",
        "            A[j+1] = A[j]\n",
        "            j-=1\n",
        "    if (j != M-2 or last > B[i]):\n",
        "      A[j+1] = B[i]\n",
        "      B[i] = last\n",
        "\n",
        "\n",
        "\n",
        "\n",
        "M = int(input())\n",
        "\n",
        "N = int(input())\n",
        "\n",
        "# input both the arrays\n",
        "\n",
        "A = []\n",
        "B = []\n",
        "\n",
        "for i in range(M):\n",
        "    temp = int(input())\n",
        "    A.append(temp)\n",
        "\n",
        "for i in range(N):\n",
        "    temp = int(input())\n",
        "    B.append(temp)\n",
        "\n",
        "# Function call\n",
        "\n",
        "mergearrays(M, N, A, B)"
      ],
      "execution_count": null,
      "outputs": [
        {
          "output_type": "stream",
          "text": [
            "2\n",
            "2\n",
            "4\n",
            "6\n",
            "1\n",
            "9\n"
          ],
          "name": "stdout"
        },
        {
          "output_type": "error",
          "ename": "TypeError",
          "evalue": "ignored",
          "traceback": [
            "\u001b[0;31m---------------------------------------------------------------------------\u001b[0m",
            "\u001b[0;31mTypeError\u001b[0m                                 Traceback (most recent call last)",
            "\u001b[0;32m<ipython-input-7-277c7b52eceb>\u001b[0m in \u001b[0;36m<module>\u001b[0;34m()\u001b[0m\n\u001b[1;32m     34\u001b[0m \u001b[0;31m# Function call\u001b[0m\u001b[0;34m\u001b[0m\u001b[0;34m\u001b[0m\u001b[0;34m\u001b[0m\u001b[0m\n\u001b[1;32m     35\u001b[0m \u001b[0;34m\u001b[0m\u001b[0m\n\u001b[0;32m---> 36\u001b[0;31m \u001b[0mmergearrays\u001b[0m\u001b[0;34m(\u001b[0m\u001b[0mM\u001b[0m\u001b[0;34m,\u001b[0m \u001b[0mN\u001b[0m\u001b[0;34m,\u001b[0m \u001b[0mA\u001b[0m\u001b[0;34m,\u001b[0m \u001b[0mB\u001b[0m\u001b[0;34m)\u001b[0m\u001b[0;34m\u001b[0m\u001b[0;34m\u001b[0m\u001b[0m\n\u001b[0m",
            "\u001b[0;32m<ipython-input-7-277c7b52eceb>\u001b[0m in \u001b[0;36mmergearrays\u001b[0;34m(A, B, M, N)\u001b[0m\n\u001b[1;32m      2\u001b[0m \u001b[0;34m\u001b[0m\u001b[0m\n\u001b[1;32m      3\u001b[0m \u001b[0;34m\u001b[0m\u001b[0m\n\u001b[0;32m----> 4\u001b[0;31m   \u001b[0;32mfor\u001b[0m \u001b[0mi\u001b[0m \u001b[0;32min\u001b[0m \u001b[0mrange\u001b[0m\u001b[0;34m(\u001b[0m\u001b[0mN\u001b[0m\u001b[0;34m-\u001b[0m\u001b[0;36m1\u001b[0m\u001b[0;34m,\u001b[0m \u001b[0;34m-\u001b[0m\u001b[0;36m1\u001b[0m\u001b[0;34m,\u001b[0m \u001b[0;34m-\u001b[0m\u001b[0;36m1\u001b[0m\u001b[0;34m)\u001b[0m\u001b[0;34m:\u001b[0m\u001b[0;34m\u001b[0m\u001b[0;34m\u001b[0m\u001b[0m\n\u001b[0m\u001b[1;32m      5\u001b[0m     \u001b[0mlast\u001b[0m \u001b[0;34m=\u001b[0m \u001b[0mA\u001b[0m\u001b[0;34m[\u001b[0m\u001b[0mM\u001b[0m\u001b[0;34m-\u001b[0m\u001b[0;36m1\u001b[0m\u001b[0;34m]\u001b[0m\u001b[0;34m\u001b[0m\u001b[0;34m\u001b[0m\u001b[0m\n\u001b[1;32m      6\u001b[0m     \u001b[0mj\u001b[0m \u001b[0;34m=\u001b[0m \u001b[0mM\u001b[0m\u001b[0;34m-\u001b[0m\u001b[0;36m2\u001b[0m\u001b[0;34m\u001b[0m\u001b[0;34m\u001b[0m\u001b[0m\n",
            "\u001b[0;31mTypeError\u001b[0m: unsupported operand type(s) for -: 'list' and 'int'"
          ]
        }
      ]
    },
    {
      "cell_type": "code",
      "metadata": {
        "colab": {
          "base_uri": "https://localhost:8080/"
        },
        "id": "wzTe2p1VHVQM",
        "outputId": "62155ade-8324-45f7-b467-0d7560897302"
      },
      "source": [
        "# Merge ar1[] and ar2[]\n",
        "# with O(1) extra space\n",
        "def merge(ar1, ar2, m, n):\n",
        " \n",
        "    \n",
        "    for i in range(n-1, -1, -1):\n",
        "     \n",
        "        last = ar1[m-1]\n",
        "        j=m-2\n",
        "        while(j >= 0 and ar1[j] > ar2[i]):\n",
        "            ar1[j+1] = ar1[j]\n",
        "            j-=1\n",
        "  \n",
        "       \n",
        "        if (j != m-2 or last > ar2[i]):\n",
        "         \n",
        "            ar1[j+1] = ar2[i]\n",
        "            ar2[i] = last\n",
        "  \n",
        "# Driver program\n",
        " \n",
        "ar1 = [1, 5, 9, 10, 15, 20]\n",
        "ar2 = [2, 3, 8, 13]\n",
        "m = len(ar1)\n",
        "n = len(ar2)\n",
        " \n",
        "merge(ar1, ar2, m, n)\n",
        "  \n",
        "print(\"After Merging \\nFirst Array:\", end=\"\")\n",
        "for i in range(m):\n",
        "    print(ar1[i] , \" \", end=\"\")\n",
        " \n",
        "print(\"\\nSecond Array: \", end=\"\")\n",
        "for i in range(n):\n",
        "    print(ar2[i] , \" \", end=\"\")\n",
        " \n",
        "# This code is contributed\n",
        "# by Anant Agarwal."
      ],
      "execution_count": null,
      "outputs": [
        {
          "output_type": "stream",
          "text": [
            "After Merging \n",
            "First Array:1  2  3  5  8  9  \n",
            "Second Array: 10  13  15  20  "
          ],
          "name": "stdout"
        }
      ]
    },
    {
      "cell_type": "code",
      "metadata": {
        "colab": {
          "base_uri": "https://localhost:8080/"
        },
        "id": "TPLfpuNSGbUv",
        "outputId": "d35df0ce-f219-45ed-e1bc-8eda54509656"
      },
      "source": [
        "def getInvCount(arr, n):\n",
        "\n",
        "    inv_count = 0\n",
        "    for i in range(n):\n",
        "        for j in range(i + 1, n):\n",
        "            if (arr[i] > arr[j]):\n",
        "                inv_count += 1\n",
        "\n",
        "    return inv_count\n",
        "\n",
        "\n",
        "# Driver Code\n",
        "arr = [1, 20, 6, 4, 5]\n",
        "n = len(arr)\n",
        "print(\"Number of inversions are\",\n",
        "      getInvCount(arr, n))\n"
      ],
      "execution_count": null,
      "outputs": [
        {
          "output_type": "stream",
          "text": [
            "Number of inversions are 5\n"
          ],
          "name": "stdout"
        }
      ]
    },
    {
      "cell_type": "code",
      "metadata": {
        "colab": {
          "base_uri": "https://localhost:8080/",
          "height": 387
        },
        "id": "nQB9NjDBgx3i",
        "outputId": "5cfdbfcb-d1df-4b71-f2d0-26047ca92667"
      },
      "source": [
        ""
      ],
      "execution_count": null,
      "outputs": [
        {
          "output_type": "error",
          "ename": "TypeError",
          "evalue": "ignored",
          "traceback": [
            "\u001b[0;31m---------------------------------------------------------------------------\u001b[0m",
            "\u001b[0;31mTypeError\u001b[0m                                 Traceback (most recent call last)",
            "\u001b[0;32m<ipython-input-5-8396b9ec0dac>\u001b[0m in \u001b[0;36m<module>\u001b[0;34m()\u001b[0m\n\u001b[1;32m     52\u001b[0m \u001b[0marr\u001b[0m \u001b[0;34m=\u001b[0m \u001b[0;34m[\u001b[0m\u001b[0;36m1\u001b[0m\u001b[0;34m,\u001b[0m \u001b[0;36m20\u001b[0m\u001b[0;34m,\u001b[0m \u001b[0;36m6\u001b[0m\u001b[0;34m,\u001b[0m \u001b[0;36m4\u001b[0m\u001b[0;34m,\u001b[0m \u001b[0;36m5\u001b[0m\u001b[0;34m]\u001b[0m\u001b[0;34m\u001b[0m\u001b[0;34m\u001b[0m\u001b[0m\n\u001b[1;32m     53\u001b[0m \u001b[0mn\u001b[0m \u001b[0;34m=\u001b[0m \u001b[0mlen\u001b[0m\u001b[0;34m(\u001b[0m\u001b[0marr\u001b[0m\u001b[0;34m)\u001b[0m\u001b[0;34m\u001b[0m\u001b[0;34m\u001b[0m\u001b[0m\n\u001b[0;32m---> 54\u001b[0;31m \u001b[0mresult\u001b[0m \u001b[0;34m=\u001b[0m \u001b[0minversioncount\u001b[0m\u001b[0;34m(\u001b[0m\u001b[0marr\u001b[0m\u001b[0;34m,\u001b[0m \u001b[0mn\u001b[0m\u001b[0;34m)\u001b[0m\u001b[0;34m\u001b[0m\u001b[0;34m\u001b[0m\u001b[0m\n\u001b[0m\u001b[1;32m     55\u001b[0m \u001b[0mprint\u001b[0m\u001b[0;34m(\u001b[0m\u001b[0;34m\"Number of inversions are\"\u001b[0m\u001b[0;34m,\u001b[0m \u001b[0mresult\u001b[0m\u001b[0;34m)\u001b[0m\u001b[0;34m\u001b[0m\u001b[0;34m\u001b[0m\u001b[0m\n\u001b[1;32m     56\u001b[0m \u001b[0;34m\u001b[0m\u001b[0m\n",
            "\u001b[0;32m<ipython-input-5-8396b9ec0dac>\u001b[0m in \u001b[0;36minversioncount\u001b[0;34m(arr, n)\u001b[0m\n\u001b[1;32m      1\u001b[0m \u001b[0;32mdef\u001b[0m \u001b[0minversioncount\u001b[0m\u001b[0;34m(\u001b[0m\u001b[0marr\u001b[0m\u001b[0;34m,\u001b[0m\u001b[0mn\u001b[0m\u001b[0;34m)\u001b[0m\u001b[0;34m:\u001b[0m\u001b[0;34m\u001b[0m\u001b[0;34m\u001b[0m\u001b[0m\n\u001b[1;32m      2\u001b[0m   \u001b[0mtemp_arr\u001b[0m \u001b[0;34m=\u001b[0m \u001b[0;34m[\u001b[0m\u001b[0;36m0\u001b[0m\u001b[0;34m]\u001b[0m\u001b[0;34m*\u001b[0m\u001b[0mn\u001b[0m\u001b[0;34m\u001b[0m\u001b[0;34m\u001b[0m\u001b[0m\n\u001b[0;32m----> 3\u001b[0;31m   \u001b[0;32mreturn\u001b[0m \u001b[0mmergesort\u001b[0m\u001b[0;34m(\u001b[0m\u001b[0marr\u001b[0m\u001b[0;34m,\u001b[0m\u001b[0mtemp_arr\u001b[0m\u001b[0;34m,\u001b[0m\u001b[0;36m0\u001b[0m\u001b[0;34m,\u001b[0m\u001b[0mn\u001b[0m\u001b[0;34m-\u001b[0m\u001b[0;36m1\u001b[0m\u001b[0;34m)\u001b[0m\u001b[0;34m\u001b[0m\u001b[0;34m\u001b[0m\u001b[0m\n\u001b[0m\u001b[1;32m      4\u001b[0m \u001b[0;34m\u001b[0m\u001b[0m\n\u001b[1;32m      5\u001b[0m \u001b[0;32mdef\u001b[0m \u001b[0mmergesort\u001b[0m\u001b[0;34m(\u001b[0m\u001b[0marr\u001b[0m\u001b[0;34m,\u001b[0m\u001b[0mtemp_arr\u001b[0m\u001b[0;34m,\u001b[0m\u001b[0mleft\u001b[0m\u001b[0;34m,\u001b[0m\u001b[0mright\u001b[0m\u001b[0;34m)\u001b[0m\u001b[0;34m:\u001b[0m\u001b[0;34m\u001b[0m\u001b[0;34m\u001b[0m\u001b[0m\n",
            "\u001b[0;32m<ipython-input-5-8396b9ec0dac>\u001b[0m in \u001b[0;36mmergesort\u001b[0;34m(arr, temp_arr, left, right)\u001b[0m\n\u001b[1;32m      9\u001b[0m     \u001b[0mmid\u001b[0m \u001b[0;34m=\u001b[0m \u001b[0;34m(\u001b[0m\u001b[0mleft\u001b[0m\u001b[0;34m+\u001b[0m\u001b[0mright\u001b[0m\u001b[0;34m)\u001b[0m\u001b[0;34m//\u001b[0m\u001b[0;36m2\u001b[0m\u001b[0;34m\u001b[0m\u001b[0;34m\u001b[0m\u001b[0m\n\u001b[1;32m     10\u001b[0m \u001b[0;34m\u001b[0m\u001b[0m\n\u001b[0;32m---> 11\u001b[0;31m     \u001b[0mcount\u001b[0m\u001b[0;34m+=\u001b[0m \u001b[0mmergesort\u001b[0m\u001b[0;34m(\u001b[0m\u001b[0marr\u001b[0m\u001b[0;34m,\u001b[0m\u001b[0mtemp_arr\u001b[0m\u001b[0;34m,\u001b[0m\u001b[0mleft\u001b[0m\u001b[0;34m,\u001b[0m\u001b[0mmid\u001b[0m\u001b[0;34m)\u001b[0m\u001b[0;34m\u001b[0m\u001b[0;34m\u001b[0m\u001b[0m\n\u001b[0m\u001b[1;32m     12\u001b[0m     \u001b[0mcount\u001b[0m\u001b[0;34m+=\u001b[0m \u001b[0mmergesort\u001b[0m\u001b[0;34m(\u001b[0m\u001b[0marr\u001b[0m\u001b[0;34m,\u001b[0m\u001b[0mtemp_arr\u001b[0m\u001b[0;34m,\u001b[0m\u001b[0mmid\u001b[0m\u001b[0;34m,\u001b[0m\u001b[0mright\u001b[0m\u001b[0;34m)\u001b[0m\u001b[0;34m\u001b[0m\u001b[0;34m\u001b[0m\u001b[0m\n\u001b[1;32m     13\u001b[0m     \u001b[0mcount\u001b[0m\u001b[0;34m+=\u001b[0m \u001b[0mmerge\u001b[0m\u001b[0;34m(\u001b[0m\u001b[0marr\u001b[0m\u001b[0;34m,\u001b[0m\u001b[0mtemp_arr\u001b[0m\u001b[0;34m,\u001b[0m\u001b[0mleft\u001b[0m\u001b[0;34m,\u001b[0m\u001b[0mmid\u001b[0m\u001b[0;34m,\u001b[0m\u001b[0mright\u001b[0m\u001b[0;34m)\u001b[0m\u001b[0;34m\u001b[0m\u001b[0;34m\u001b[0m\u001b[0m\n",
            "\u001b[0;32m<ipython-input-5-8396b9ec0dac>\u001b[0m in \u001b[0;36mmergesort\u001b[0;34m(arr, temp_arr, left, right)\u001b[0m\n\u001b[1;32m      9\u001b[0m     \u001b[0mmid\u001b[0m \u001b[0;34m=\u001b[0m \u001b[0;34m(\u001b[0m\u001b[0mleft\u001b[0m\u001b[0;34m+\u001b[0m\u001b[0mright\u001b[0m\u001b[0;34m)\u001b[0m\u001b[0;34m//\u001b[0m\u001b[0;36m2\u001b[0m\u001b[0;34m\u001b[0m\u001b[0;34m\u001b[0m\u001b[0m\n\u001b[1;32m     10\u001b[0m \u001b[0;34m\u001b[0m\u001b[0m\n\u001b[0;32m---> 11\u001b[0;31m     \u001b[0mcount\u001b[0m\u001b[0;34m+=\u001b[0m \u001b[0mmergesort\u001b[0m\u001b[0;34m(\u001b[0m\u001b[0marr\u001b[0m\u001b[0;34m,\u001b[0m\u001b[0mtemp_arr\u001b[0m\u001b[0;34m,\u001b[0m\u001b[0mleft\u001b[0m\u001b[0;34m,\u001b[0m\u001b[0mmid\u001b[0m\u001b[0;34m)\u001b[0m\u001b[0;34m\u001b[0m\u001b[0;34m\u001b[0m\u001b[0m\n\u001b[0m\u001b[1;32m     12\u001b[0m     \u001b[0mcount\u001b[0m\u001b[0;34m+=\u001b[0m \u001b[0mmergesort\u001b[0m\u001b[0;34m(\u001b[0m\u001b[0marr\u001b[0m\u001b[0;34m,\u001b[0m\u001b[0mtemp_arr\u001b[0m\u001b[0;34m,\u001b[0m\u001b[0mmid\u001b[0m\u001b[0;34m,\u001b[0m\u001b[0mright\u001b[0m\u001b[0;34m)\u001b[0m\u001b[0;34m\u001b[0m\u001b[0;34m\u001b[0m\u001b[0m\n\u001b[1;32m     13\u001b[0m     \u001b[0mcount\u001b[0m\u001b[0;34m+=\u001b[0m \u001b[0mmerge\u001b[0m\u001b[0;34m(\u001b[0m\u001b[0marr\u001b[0m\u001b[0;34m,\u001b[0m\u001b[0mtemp_arr\u001b[0m\u001b[0;34m,\u001b[0m\u001b[0mleft\u001b[0m\u001b[0;34m,\u001b[0m\u001b[0mmid\u001b[0m\u001b[0;34m,\u001b[0m\u001b[0mright\u001b[0m\u001b[0;34m)\u001b[0m\u001b[0;34m\u001b[0m\u001b[0;34m\u001b[0m\u001b[0m\n",
            "\u001b[0;32m<ipython-input-5-8396b9ec0dac>\u001b[0m in \u001b[0;36mmergesort\u001b[0;34m(arr, temp_arr, left, right)\u001b[0m\n\u001b[1;32m      9\u001b[0m     \u001b[0mmid\u001b[0m \u001b[0;34m=\u001b[0m \u001b[0;34m(\u001b[0m\u001b[0mleft\u001b[0m\u001b[0;34m+\u001b[0m\u001b[0mright\u001b[0m\u001b[0;34m)\u001b[0m\u001b[0;34m//\u001b[0m\u001b[0;36m2\u001b[0m\u001b[0;34m\u001b[0m\u001b[0;34m\u001b[0m\u001b[0m\n\u001b[1;32m     10\u001b[0m \u001b[0;34m\u001b[0m\u001b[0m\n\u001b[0;32m---> 11\u001b[0;31m     \u001b[0mcount\u001b[0m\u001b[0;34m+=\u001b[0m \u001b[0mmergesort\u001b[0m\u001b[0;34m(\u001b[0m\u001b[0marr\u001b[0m\u001b[0;34m,\u001b[0m\u001b[0mtemp_arr\u001b[0m\u001b[0;34m,\u001b[0m\u001b[0mleft\u001b[0m\u001b[0;34m,\u001b[0m\u001b[0mmid\u001b[0m\u001b[0;34m)\u001b[0m\u001b[0;34m\u001b[0m\u001b[0;34m\u001b[0m\u001b[0m\n\u001b[0m\u001b[1;32m     12\u001b[0m     \u001b[0mcount\u001b[0m\u001b[0;34m+=\u001b[0m \u001b[0mmergesort\u001b[0m\u001b[0;34m(\u001b[0m\u001b[0marr\u001b[0m\u001b[0;34m,\u001b[0m\u001b[0mtemp_arr\u001b[0m\u001b[0;34m,\u001b[0m\u001b[0mmid\u001b[0m\u001b[0;34m,\u001b[0m\u001b[0mright\u001b[0m\u001b[0;34m)\u001b[0m\u001b[0;34m\u001b[0m\u001b[0;34m\u001b[0m\u001b[0m\n\u001b[1;32m     13\u001b[0m     \u001b[0mcount\u001b[0m\u001b[0;34m+=\u001b[0m \u001b[0mmerge\u001b[0m\u001b[0;34m(\u001b[0m\u001b[0marr\u001b[0m\u001b[0;34m,\u001b[0m\u001b[0mtemp_arr\u001b[0m\u001b[0;34m,\u001b[0m\u001b[0mleft\u001b[0m\u001b[0;34m,\u001b[0m\u001b[0mmid\u001b[0m\u001b[0;34m,\u001b[0m\u001b[0mright\u001b[0m\u001b[0;34m)\u001b[0m\u001b[0;34m\u001b[0m\u001b[0;34m\u001b[0m\u001b[0m\n",
            "\u001b[0;31mTypeError\u001b[0m: unsupported operand type(s) for +=: 'int' and 'NoneType'"
          ]
        }
      ]
    },
    {
      "cell_type": "code",
      "metadata": {
        "colab": {
          "base_uri": "https://localhost:8080/"
        },
        "id": "y6cwrSBKDL06",
        "outputId": "76e31a81-ce39-4511-d2de-67c8e65abaac"
      },
      "source": [
        "\n",
        "# Python 3 program to count inversions in an array\n",
        "\n",
        "# Function to Use Inversion Count\n",
        "def mergeSort(arr, n):\n",
        "    # A temp_arr is created to store\n",
        "    # sorted array in merge function\n",
        "    temp_arr = [0]*n\n",
        "    return _mergeSort(arr, temp_arr, 0, n-1)\n",
        "\n",
        "# This Function will use MergeSort to count inversions\n",
        "\n",
        "def _mergeSort(arr, temp_arr, left, right):\n",
        "\n",
        "    # A variable inv_count is used to store\n",
        "    # inversion counts in each recursive call\n",
        "\n",
        "    inv_count = 0\n",
        "\n",
        "    # We will make a recursive call if and only if\n",
        "    # we have more than one elements\n",
        "\n",
        "    if left < right:\n",
        "\n",
        "        # mid is calculated to divide the array into two subarrays\n",
        "        # Floor division is must in case of python\n",
        "\n",
        "        mid = (left + right)//2\n",
        "\n",
        "        # It will calculate inversion \n",
        "        # counts in the left subarray\n",
        "\n",
        "        inv_count += _mergeSort(arr, temp_arr, \n",
        "                                    left, mid)\n",
        "\n",
        "        # It will calculate inversion \n",
        "        # counts in right subarray\n",
        "\n",
        "        inv_count += _mergeSort(arr, temp_arr, \n",
        "                                  mid + 1, right)\n",
        "\n",
        "        # It will merge two subarrays in \n",
        "        # a sorted subarray\n",
        "\n",
        "        inv_count += merge(arr, temp_arr, left, mid, right)\n",
        "    return inv_count\n",
        "\n",
        "# This function will merge two subarrays \n",
        "# in a single sorted subarray\n",
        "def merge(arr, temp_arr, left, mid, right):\n",
        "    i = left     # Starting index of left subarray\n",
        "    j = mid + 1 # Starting index of right subarray\n",
        "    k = left     # Starting index of to be sorted subarray\n",
        "    inv_count = 0\n",
        "\n",
        "    # Conditions are checked to make sure that \n",
        "    # i and j don't exceed their\n",
        "    # subarray limits.\n",
        "\n",
        "    while i <= mid and j <= right:\n",
        "\n",
        "        # There will be no inversion if arr[i] <= arr[j]\n",
        "\n",
        "        if arr[i] <= arr[j]:\n",
        "            temp_arr[k] = arr[i]\n",
        "            k += 1\n",
        "            i += 1\n",
        "        else:\n",
        "\n",
        "        #important stepppppppppppppppppppppppppppppppp\n",
        "            # Inversion will occur.\n",
        "            temp_arr[k] = arr[j]\n",
        "            inv_count += (mid-i + 1)\n",
        "            k += 1\n",
        "            j += 1\n",
        "\n",
        "    # Copy the remaining elements of left \n",
        "    # subarray into temporary array\n",
        "    while i <= mid:\n",
        "        temp_arr[k] = arr[i]\n",
        "        k += 1\n",
        "        i += 1\n",
        "\n",
        "    # Copy the remaining elements of right \n",
        "    # subarray into temporary array\n",
        "    while j <= right:\n",
        "        temp_arr[k] = arr[j]\n",
        "        k += 1\n",
        "        j += 1\n",
        "\n",
        "    # Copy the sorted subarray into Original array\n",
        "    for loop_var in range(left, right + 1):\n",
        "        arr[loop_var] = temp_arr[loop_var]\n",
        "        \n",
        "    return inv_count\n",
        "\n",
        "# Driver Code\n",
        "# Given array is\n",
        "arr = [1, 20, 6, 4, 5]\n",
        "n = len(arr)\n",
        "result = mergeSort(arr, n)\n",
        "print(\"Number of inversions are\", result)\n",
        "\n",
        "\n"
      ],
      "execution_count": null,
      "outputs": [
        {
          "output_type": "stream",
          "text": [
            "Number of inversions are 5\n"
          ],
          "name": "stdout"
        }
      ]
    },
    {
      "cell_type": "code",
      "metadata": {
        "colab": {
          "base_uri": "https://localhost:8080/"
        },
        "id": "hspbskgJgqj9",
        "outputId": "87db6b1e-dbba-404d-dacd-d0475389d1f7"
      },
      "source": [
        "def maxProfit(arr,n):\n",
        "  i=0\n",
        "  buy = 0\n",
        "  sell =0\n",
        "  currmin = 0\n",
        "  currprofit =0\n",
        "  maxprofit = 0 \n",
        "\n",
        "  while i<n:\n",
        "    if arr[i]<arr[currmin]:\n",
        "      currmin = i\n",
        "    currprofit = arr[i]-arr[currmin]\n",
        "\n",
        "\n",
        "    if currprofit>maxprofit:\n",
        "      buy = currmin\n",
        "      sell = i\n",
        "      maxprofit = currprofit\n",
        "\n",
        "    i+=1\n",
        "  return arr[sell]-arr[buy]\n",
        "\n",
        "\n",
        "arr = [7,1,5,3,6,4]\n",
        "n = len(arr)\n",
        "\n",
        "print (maxProfit(arr,n))\n"
      ],
      "execution_count": null,
      "outputs": [
        {
          "output_type": "stream",
          "text": [
            "5\n"
          ],
          "name": "stdout"
        }
      ]
    },
    {
      "cell_type": "code",
      "metadata": {
        "colab": {
          "base_uri": "https://localhost:8080/"
        },
        "id": "vgwepD6ofPTl",
        "outputId": "fb4d94a2-088b-4faf-f444-0b2c9ef89b09"
      },
      "source": [
        "def getPairsCount(arr, n, sum):\n",
        " \n",
        "    count = 0  # Initialize result\n",
        " \n",
        "    # Consider all possible pairs\n",
        "    # and check their sums\n",
        "    for i in range(0, n):\n",
        "        for j in range(i + 1, n):\n",
        "            if arr[i] + arr[j] == sum:\n",
        "                count += 1\n",
        " \n",
        "    return count\n",
        " \n",
        " \n",
        "# Driver function\n",
        "arr = [1,1,3,3,3,4,5,5]\n",
        "n = len(arr)\n",
        "sum = 6\n",
        "print(\"Count of pairs is\",\n",
        "      getPairsCount(arr, n, sum))"
      ],
      "execution_count": null,
      "outputs": [
        {
          "output_type": "stream",
          "text": [
            "Count of pairs is 7\n"
          ],
          "name": "stdout"
        }
      ]
    },
    {
      "cell_type": "code",
      "metadata": {
        "colab": {
          "base_uri": "https://localhost:8080/"
        },
        "id": "Zgufl7v2gtjT",
        "outputId": "4da420b0-9c6d-4154-80a0-91782fb3c74c"
      },
      "source": [
        "# Python 3 implementation of simple method\n",
        "# to find count of pairs with given sum.\n",
        "import sys\n",
        " \n",
        "# Returns number of pairs in arr[0..n-1]\n",
        "# with sum equal to 'sum'\n",
        " \n",
        " \n",
        "def getPairsCount(arr, n, sum):\n",
        " \n",
        "    m = [0] * 1000\n",
        " \n",
        "    # Store counts of all elements in map m\n",
        "    for i in range(0, n):\n",
        "        m[arr[i]] += 1\n",
        " \n",
        "    twice_count = 0\n",
        " \n",
        "    # Iterate through each element and increment\n",
        "    # the count (Notice that every pair is\n",
        "    # counted twice)\n",
        "    for i in range(0, n):\n",
        " \n",
        "        twice_count += m[sum - arr[i]]\n",
        " \n",
        "        # if (arr[i], arr[i]) pair satisfies the\n",
        "        # condition, then we need to ensure that\n",
        "        # the count is  decreased by one such\n",
        "        # that the (arr[i], arr[i]) pair is not\n",
        "        # considered\n",
        "        if (sum - arr[i] == arr[i]):\n",
        "            twice_count -= 1\n",
        " \n",
        "    # return the half of twice_count\n",
        "    return int(twice_count / 2)\n",
        " \n",
        " \n",
        "# Driver function\n",
        "arr = [1,1,3,3,3,4,5,5]\n",
        "n = len(arr)\n",
        "sum = 6\n",
        " \n",
        "print(\"Count of pairs is\", getPairsCount(arr,\n",
        "                                         n, sum))\n",
        " \n",
        "# This code is contributed by"
      ],
      "execution_count": null,
      "outputs": [
        {
          "output_type": "stream",
          "text": [
            "Count of pairs is 7\n"
          ],
          "name": "stdout"
        }
      ]
    },
    {
      "cell_type": "code",
      "metadata": {
        "colab": {
          "base_uri": "https://localhost:8080/"
        },
        "id": "SJ2c3Dw4Z2Tw",
        "outputId": "f6b1cd93-0659-465f-fd76-ce58d44e0eb0"
      },
      "source": [
        "def common(A,B,C,n1,n2,n3):\n",
        "  i = 0\n",
        "  j = 0\n",
        "  k = 0\n",
        "  while i<n1 and j<n2 and k<n3:\n",
        "    if A[i]== B[j] and B[j]==C[k]:\n",
        "      print (A[i])\n",
        "      i += 1\n",
        "      j += 1\n",
        "      k += 1\n",
        "         \n",
        "\n",
        "\n",
        "    elif A[i]<B[j]:\n",
        "      i+=1\n",
        "    elif B[j]<C[k]:\n",
        "      j+=1\n",
        "    else:\n",
        "      k+=1\n",
        "A = [1, 5, 10, 20, 40, 80]\n",
        "B = [6, 7, 20, 80, 100]\n",
        "C = [3, 4, 15, 20, 30, 70, 80, 120]\n",
        "n1 = len(A)\n",
        "n2 = len(B)\n",
        "n3 = len(C)\n",
        "\n",
        "common(A,B,C, n1, n2, n3)"
      ],
      "execution_count": null,
      "outputs": [
        {
          "output_type": "stream",
          "text": [
            "20\n",
            "80\n"
          ],
          "name": "stdout"
        }
      ]
    },
    {
      "cell_type": "code",
      "metadata": {
        "colab": {
          "base_uri": "https://localhost:8080/"
        },
        "id": "cukkECtszBo-",
        "outputId": "5c9b0b16-b382-4428-8518-302868057c53"
      },
      "source": [
        "def sumtozero(arr,n):\n",
        "  s = set()\n",
        "\n",
        "\n",
        "  sum =0\n",
        "  for i in range(0,n):\n",
        "    sum+= arr[i]\n",
        "    if sum==0 or sum in s:\n",
        "      return True\n",
        "    s.add(sum) \n",
        "\n",
        "  return False\n",
        "\n",
        "arr = [1, 1, 8, 20, 40, 80]\n",
        "n = len(arr)\n",
        "\n",
        "sumtozero(arr,n)"
      ],
      "execution_count": null,
      "outputs": [
        {
          "output_type": "execute_result",
          "data": {
            "text/plain": [
              "False"
            ]
          },
          "metadata": {
            "tags": []
          },
          "execution_count": 10
        }
      ]
    },
    {
      "cell_type": "code",
      "metadata": {
        "colab": {
          "base_uri": "https://localhost:8080/"
        },
        "id": "je7Tz39k1TSk",
        "outputId": "f28caf9d-822a-4748-b0ff-f3568bc455ca"
      },
      "source": [
        "def factorial(N):\n",
        "        if N==0 or N==1:\n",
        "            return 1\n",
        "        else:\n",
        "            return N*factorial(N-1)\n",
        "\n",
        "N =4\n",
        "factorial(N)\n",
        "        "
      ],
      "execution_count": null,
      "outputs": [
        {
          "output_type": "execute_result",
          "data": {
            "text/plain": [
              "24"
            ]
          },
          "metadata": {
            "tags": []
          },
          "execution_count": 16
        }
      ]
    },
    {
      "cell_type": "code",
      "metadata": {
        "colab": {
          "base_uri": "https://localhost:8080/"
        },
        "id": "OrDWB-YPGyWz",
        "outputId": "9d883cf4-2c40-4037-9f32-4b3e3f4e1ba4"
      },
      "source": [
        "def findLongestConseqSubseq(arr, N):\n",
        "        ans = 0\n",
        "        count=0\n",
        "        arr.sort()\n",
        "        \n",
        "        v = []\n",
        "        v.append(arr[0])\n",
        "        \n",
        "        for i in range(1,n):\n",
        "            if (arr[i]!=arr[i-1]):\n",
        "                v.append(arr[i])\n",
        "        for i in range(len(v)):\n",
        "            if (i > 0 and v[i] == v[i - 1] + 1):\n",
        "                count += 1\n",
        "            else:\n",
        "                count = 1\n",
        "                \n",
        "                \n",
        "            ans = max(ans,count)\n",
        "        return ans\n",
        "\n",
        "arr = [1, 2, 8, 20, 40, 80]\n",
        "N = len(arr)\n",
        "findLongestConseqSubseq(arr, N)\n",
        "\n",
        "  "
      ],
      "execution_count": null,
      "outputs": [
        {
          "output_type": "execute_result",
          "data": {
            "text/plain": [
              "2"
            ]
          },
          "metadata": {
            "tags": []
          },
          "execution_count": 20
        }
      ]
    },
    {
      "cell_type": "code",
      "metadata": {
        "colab": {
          "base_uri": "https://localhost:8080/"
        },
        "id": "tL105GCCrmyR",
        "outputId": "8bf1ba81-25f6-4199-972c-c1403aee97c4"
      },
      "source": [
        "def LCSS(arr,n):\n",
        "  s = set()\n",
        "  ans = 0\n",
        "  for ele in arr:\n",
        "    s.add(ele)\n",
        "  \n",
        "\n",
        "  for i in range(0,n):\n",
        "    if (arr[i]-1) not in s:\n",
        "      j = arr[i]\n",
        "    while j in s:\n",
        "      j+=1\n",
        "    ans = max(ans,j-arr[i])\n",
        "\n",
        "\n",
        "  return ans\n",
        "arr = [1, 2, 8, 20, 40, 80]\n",
        "n = len(arr)\n",
        "LCSS(arr, n)\n",
        "\n",
        "\n",
        "\n",
        "\n"
      ],
      "execution_count": null,
      "outputs": [
        {
          "output_type": "execute_result",
          "data": {
            "text/plain": [
              "2"
            ]
          },
          "metadata": {
            "tags": []
          },
          "execution_count": 2
        }
      ]
    },
    {
      "cell_type": "code",
      "metadata": {
        "id": "GuKa-XGN_BOv"
      },
      "source": [
        "def maxip(arr,n):\n",
        "  maxproduct = 0\n",
        "  currproduct = 0\n",
        "\n",
        "\n",
        "  "
      ],
      "execution_count": null,
      "outputs": []
    },
    {
      "cell_type": "code",
      "metadata": {
        "colab": {
          "base_uri": "https://localhost:8080/"
        },
        "id": "5vp8gCLOLMdN",
        "outputId": "efbe0ca9-2973-4343-9ad5-28c6f7f8fa7c"
      },
      "source": [
        "def countiiii(arr,n,k):\n",
        "  x = n//k\n",
        "  hs = {}\n",
        "        \n",
        "  for i in range(n):\n",
        "      if arr[i] in hs:\n",
        "        hs[arr[i]]+=1\n",
        "      else:\n",
        "        hs[arr[i]] = 1\n",
        "                \n",
        "  for i in hs:\n",
        "    if hs[i]>x:\n",
        "      print(i)\n",
        "                \n",
        "          \n",
        "\n",
        "arr =[3,1,2,2,1,2,3,3]\n",
        "n = len(arr)\n",
        "k = 4\n",
        "countiiii(arr,n,k)\n",
        "    "
      ],
      "execution_count": null,
      "outputs": [
        {
          "output_type": "stream",
          "text": [
            "3\n",
            "2\n"
          ],
          "name": "stdout"
        }
      ]
    },
    {
      "cell_type": "code",
      "metadata": {
        "id": "HA649XmqHeYP"
      },
      "source": [
        "class Solution:\n",
        "    def countOccurence(self,arr, n, k):\n",
        "        count = 0\n",
        "        # k must be greater than 1 to get some output\n",
        "        if k < 2:\n",
        "            return 0\n",
        "    \n",
        "        '''\n",
        "        Step 1: Create a temporary array (contains element \n",
        "    \tand count) of size k-1. Initialize count of all \n",
        "    \telements as 0, count is second value of pair.\n",
        "    \t'''\n",
        "        temp = [[0, 0] for i in range(k - 1)]\n",
        "    \n",
        "        # Step 2: Process all elements of input array\n",
        "        for i in range(n):\n",
        "            '''\n",
        "            If arr[i] is already present in \n",
        "            the element count array, then increment its count\n",
        "            '''\n",
        "            j = 0\n",
        "            while j < k - 1:\n",
        "                if temp[j][0] == arr[i]:\n",
        "                    temp[j][1] += 1\n",
        "                    break\n",
        "                j += 1\n",
        "    \n",
        "            # If arr[i] is not present in temp[]\n",
        "            if j == k - 1:\n",
        "                l = 0\n",
        "                while l < k - 1:\n",
        "                    if temp[l][1] == 0:\n",
        "                        temp[l][0] = arr[i]\n",
        "                        temp[l][1] = 1\n",
        "                        break\n",
        "                    l+=1\n",
        "    \n",
        "    \n",
        "                ''' If all the position in the temp[] are filled, then \n",
        "                     decrease count of every element by 1'''\n",
        "                if l == k - 1:\n",
        "                    for l in range(k-1):\n",
        "                        temp[l][1] -= 1\n",
        "        # Step 3: Check actual counts of potential candidates in temp[]\n",
        "        for i in range(k - 1):\n",
        "            ac = 0  # actual count of elements\n",
        "            for j in range(n):\n",
        "                if arr[j] == temp[i][0]:\n",
        "                    ac += 1\n",
        "            # If actual count is more than n/k, then increment it\n",
        "            if ac > (n // k):\n",
        "                count += 1\n",
        "        return count\n",
        "   "
      ],
      "execution_count": null,
      "outputs": []
    },
    {
      "cell_type": "code",
      "metadata": {
        "colab": {
          "base_uri": "https://localhost:8080/"
        },
        "id": "Lr4YYZ_uIPwr",
        "outputId": "535ce027-663b-4059-9dc6-f181d5cb4ffe"
      },
      "source": [
        " def isSubset( a1, a2, n, m):\n",
        "    hs = {}\n",
        "    \n",
        "    for i in range(0,n):\n",
        "        if a1[i] in hs:\n",
        "            hs[a1[i]]+=1\n",
        "        else:\n",
        "            hs[a1[i]] = 1\n",
        "    for j in range(0,m):\n",
        "        if a2[j] in hs:\n",
        "            return True\n",
        "        else:\n",
        "            return False\n",
        "\n",
        "a1= [589, 5847,595, 959, 258]\n",
        "n = len(a1)\n",
        "a2 = [258, 25]\n",
        "m = len(a2)\n",
        "isSubset(a1,a2,n,m)\n",
        "        \n"
      ],
      "execution_count": null,
      "outputs": [
        {
          "output_type": "execute_result",
          "data": {
            "text/plain": [
              "True"
            ]
          },
          "metadata": {
            "tags": []
          },
          "execution_count": 4
        }
      ]
    },
    {
      "cell_type": "code",
      "metadata": {
        "colab": {
          "base_uri": "https://localhost:8080/"
        },
        "id": "C4RJKCYgvSOB",
        "outputId": "250b384b-f17b-4798-dd25-75d50b97787c"
      },
      "source": [
        " def find3Numbers(A, n, X):\n",
        "        A.sort()\n",
        "        \n",
        "        for i in range(n-2):\n",
        "            l = i+1\n",
        "            r = n-1\n",
        "            while(l<r):\n",
        "                sum = A[i]+A[l]+A[r]\n",
        "                \n",
        "                if sum==X:\n",
        "                    return True\n",
        "                elif sum<X:\n",
        "                    l+=1\n",
        "                else:\n",
        "                    r-=1\n",
        "        return False\n",
        "\n",
        "\n",
        "A = [2,3,6,4,1,5,7,9]\n",
        "n = len(A)\n",
        "X = 99\n",
        "find3Numbers(A, n, X)\n",
        "    \n",
        "\n"
      ],
      "execution_count": null,
      "outputs": [
        {
          "output_type": "execute_result",
          "data": {
            "text/plain": [
              "False"
            ]
          },
          "metadata": {
            "tags": []
          },
          "execution_count": 8
        }
      ]
    },
    {
      "cell_type": "code",
      "metadata": {
        "colab": {
          "base_uri": "https://localhost:8080/"
        },
        "id": "bkohCnpZDaUH",
        "outputId": "4972f950-07b8-496e-938f-2115f5ccb85d"
      },
      "source": [
        "def choco(arr,n,m):\n",
        "  if n==0 and m ==0:\n",
        "    return 0\n",
        "  if n<m:\n",
        "    return -1\n",
        "  \n",
        "\n",
        "  min_diff = arr[n-1]-arr[0]\n",
        "\n",
        "  for i in range(len(arr)-m+1):\n",
        "    min_diff = min(min_diff ,  arr[i + m - 1] - arr[i])\n",
        "  return min_diff\n",
        "\n",
        "\n",
        "\n",
        "arr = [2,3,4,7,9,12,56]\n",
        "n = len(arr)\n",
        "m = 3    \n",
        "choco(arr,n,m)\n",
        "\n",
        "\n",
        "\n"
      ],
      "execution_count": null,
      "outputs": [
        {
          "output_type": "execute_result",
          "data": {
            "text/plain": [
              "2"
            ]
          },
          "metadata": {
            "tags": []
          },
          "execution_count": 1
        }
      ]
    },
    {
      "cell_type": "code",
      "metadata": {
        "id": "KvhTSC66j8Sl"
      },
      "source": [
        "def trapppingWater(arr,n):\n",
        "  # if n<3:\n",
        "  #   return 0\n",
        "\n",
        "  left = [0]*n\n",
        "  right = [0]*n\n",
        "  water = 0\n",
        "\n",
        "\n",
        "  left[0]= arr[0]\n",
        "  for i in range(1,n):\n",
        "    left[i] = max(left[i-1],arr[i])\n",
        "  right[n-1] = arr[n-1]\n",
        "  for i in range(n-2, -1, -1):\n",
        "    right[i] = max(right[i+1], arr[i]); \n",
        "\n",
        "  for i in range(0,n):\n",
        "    water+= min(left[i],right[i]-arr[i])\n",
        "\n",
        "  return water\n",
        "\n",
        "\n",
        "\n",
        "arr = [7,4,0,9]\n",
        "n = len(arr)\n",
        "trapppingWater(arr,n)\n",
        "\n",
        "\n",
        "\n"
      ],
      "execution_count": null,
      "outputs": []
    },
    {
      "cell_type": "code",
      "metadata": {
        "id": "7N0O5feXvBMD"
      },
      "source": [
        "class Solution:\n",
        "    #Function to partition the array around the range such \n",
        "    #that array is divided into three parts.\n",
        "\tdef threeWayPartition(self, array, a, b):\n",
        "\t    n =len(array)\n",
        "\t    mid = 0\n",
        "\t    low = 0\n",
        "\t    high = n-1\n",
        "\t    \n",
        "\t    while mid<=high:\n",
        "        \n",
        "\n",
        "\t        if array[mid]<a:\n",
        "\t            array[mid],array[low]= array[low],array[mid]\n",
        "\t            mid+=1\n",
        "\t            low+=1\n",
        "\t        elif array[mid]>b:\n",
        "\t            array[mid],array[high] = array[high],array[mid]\n",
        "\t            high-=1\n",
        "\t            \n",
        "\t        else:\n",
        "\t            mid+=1\n",
        "\t            \n"
      ],
      "execution_count": null,
      "outputs": []
    },
    {
      "cell_type": "code",
      "metadata": {
        "id": "ukACrgfB16hH"
      },
      "source": [
        "def subseti(arr,n,x):\n",
        "  "
      ],
      "execution_count": null,
      "outputs": []
    },
    {
      "cell_type": "code",
      "metadata": {
        "colab": {
          "base_uri": "https://localhost:8080/"
        },
        "id": "0rKy-gxff5v3",
        "outputId": "ee23688f-3ced-4e40-e3be-2c5083b9789f"
      },
      "source": [
        "def mergepalin(arr,n):\n",
        "  left = 0\n",
        "  right = n-1\n",
        "  ans= 0\n",
        "\n",
        "\n",
        "  while left<=right:\n",
        "    if arr[left]== arr[right]:\n",
        "      left+=1\n",
        "      right-=1\n",
        "    elif arr[left]>arr[right]:\n",
        "      right-=1\n",
        "      arr[j]+=arr[j+1]\n",
        "      ans+=1\n",
        "    else:\n",
        "      left+=1\n",
        "      arr[left] += arr[left-1]\n",
        "      ans += 1\n",
        "  return ans\n",
        "\n",
        "\n",
        "\n",
        "arr = [1,4,5,1]\n",
        "n = len(arr)\n",
        "mergepalin(arr,n)\n"
      ],
      "execution_count": null,
      "outputs": [
        {
          "output_type": "execute_result",
          "data": {
            "text/plain": [
              "1"
            ]
          },
          "metadata": {
            "tags": []
          },
          "execution_count": 1
        }
      ]
    },
    {
      "cell_type": "markdown",
      "metadata": {
        "id": "dPxU80SZE9B5"
      },
      "source": [
        "MATRIX\n"
      ]
    },
    {
      "cell_type": "code",
      "metadata": {
        "colab": {
          "base_uri": "https://localhost:8080/"
        },
        "id": "oK4XJSZoE_NY",
        "outputId": "ffc603ea-7c79-4ce2-c06d-9af68305b81b"
      },
      "source": [
        "def spiiral(arr,r,c):\n",
        "  i = 0\n",
        "  k = []\n",
        "  dir = 0\n",
        "  T= 0\n",
        "  R=c-1\n",
        "  B=r-1\n",
        "  L= 0\n",
        " \n",
        "  while T<=B and L<=R:\n",
        "    if (dir == 0):\n",
        "      for i in range(L,R+1):\n",
        "        k.append(arr[T][i])\n",
        "        T+=1\n",
        "        dir =1\n",
        "    elif (dir==1):\n",
        "      for i in range(T,B+1):\n",
        "          k.append(arr[i][R])\n",
        "          R-=1\n",
        "          dir =2\n",
        "    elif (dir==2):\n",
        "      for i in range(R,L-1,-1):\n",
        "        k.append(arr[B][i])\n",
        "        B-=1\n",
        "        dir =3\n",
        "    elif (dir==3):\n",
        "      for i in range(B+1,T-1,-1):\n",
        "        k.append(arr[i][L])\n",
        "        L+=1\n",
        "    dir= (dir+1)%4\n",
        "\n",
        "  return k\n",
        "\n",
        "  \n",
        "\n",
        "arr = ([2,5,8,7 ],\n",
        "        [4,88,1,9],\n",
        "        [1,5,8,7],\n",
        "        [3,4,5,6])\n",
        "\n",
        "r = 4\n",
        "c = 4\n",
        "\n",
        "spiiral(arr,r,c)"
      ],
      "execution_count": null,
      "outputs": [
        {
          "output_type": "execute_result",
          "data": {
            "text/plain": [
              "[2, 88, 8, 6]"
            ]
          },
          "metadata": {
            "tags": []
          },
          "execution_count": 3
        }
      ]
    },
    {
      "cell_type": "code",
      "metadata": {
        "colab": {
          "base_uri": "https://localhost:8080/"
        },
        "id": "qDXV9qUaFgp9",
        "outputId": "cd267122-0f13-47d8-bca4-8378a643aae8"
      },
      "source": [
        "def printdata(arr, i, j, m, n):\n",
        "\n",
        "    # If i or j lies outside the matrix\n",
        "    if (i >= m or j >= n):\n",
        "        return\n",
        "\n",
        "    # Print First Row\n",
        "    for p in range(i, n):\n",
        "        print(arr[i][p], end=\" \")\n",
        "\n",
        "    # Print Last Column\n",
        "    for p in range(i + 1, m):\n",
        "        print(arr[p][n - 1], end=\" \")\n",
        "\n",
        "    # Print Last Row, if Last and\n",
        "    # First Row are not same\n",
        "    if ((m - 1) != i):\n",
        "        for p in range(n - 2, j - 1, -1):\n",
        "            print(arr[m - 1][p], end=\" \")\n",
        "\n",
        "    # Print First Column, if Last and\n",
        "    # First Column are not same\n",
        "    if ((n - 1) != j):\n",
        "        for p in range(m - 2, i, -1):\n",
        "            print(arr[p][j], end=\" \")\n",
        "\n",
        "    printdata(arr, i + 1, j + 1, m - 1, n - 1)\n",
        "\n",
        "\n",
        "# Driver code\n",
        "R = 4\n",
        "C = 4\n",
        "arr = [[1, 2, 3, 4],\n",
        "       [5, 6, 7, 8],\n",
        "       [9, 10, 11, 12],\n",
        "       [13, 14, 15, 16]]\n",
        "\n",
        "# Function Call\n",
        "printdata(arr, 0, 0, R, C)\n"
      ],
      "execution_count": null,
      "outputs": [
        {
          "output_type": "stream",
          "text": [
            "1 2 3 4 8 12 16 15 14 13 9 5 6 7 11 10 "
          ],
          "name": "stdout"
        }
      ]
    },
    {
      "cell_type": "code",
      "metadata": {
        "colab": {
          "base_uri": "https://localhost:8080/"
        },
        "id": "AUx366EI3ggP",
        "outputId": "b79625cb-c8c3-43e8-ac2f-a2f8127b4c15"
      },
      "source": [
        "def matSearch(mat, n, m, x):\n",
        "\t\ti = 0\n",
        "\t\tj = m-1\n",
        "\t\twhile i < n and j >= 0:\n",
        "\t\t\tif mat[i][j] == x:\n",
        "\t\t\t\treturn 1\n",
        "        \n",
        "\t\t\tif mat[i][j] > x:\n",
        "\t\t\t\tj -= 1\n",
        "\t\t\telse:            # if mat[i][j] < x\n",
        "\t\t\t\ti += 1\n",
        "\t\treturn 0\n",
        "mat = [[1, 2, 3, 4],\n",
        "       [5, 6, 7, 8],\n",
        "       [9, 10, 11, 12],\n",
        "       [13, 14, 15, 16]]\n",
        "\n",
        "n = 4\n",
        "m = 4\n",
        "x = 99\n",
        "matSearch(mat, n, m, x)\n",
        "\n",
        "  "
      ],
      "execution_count": null,
      "outputs": [
        {
          "output_type": "execute_result",
          "data": {
            "text/plain": [
              "0"
            ]
          },
          "metadata": {
            "tags": []
          },
          "execution_count": 5
        }
      ]
    },
    {
      "cell_type": "code",
      "metadata": {
        "id": "1PxX-4eeBm8p"
      },
      "source": [
        "\n",
        "class Solution:\n",
        "    def median(self, matrix, r, c):\n",
        "      \n",
        "\n",
        "\n",
        "      \n"
      ],
      "execution_count": null,
      "outputs": []
    },
    {
      "cell_type": "code",
      "metadata": {
        "colab": {
          "base_uri": "https://localhost:8080/"
        },
        "id": "b1ZAq0RmEJJt",
        "outputId": "7b0ba7b4-55ca-4081-f6e8-19b158a8f72d"
      },
      "source": [
        "def maxnoof1(arr,m,n):\n",
        "  r = 0\n",
        "  c= n-1\n",
        "  max_index = 0\n",
        "  \n",
        "  while r<m and c>=0:\n",
        "    if arr[r][c]==1:\n",
        "      max_index = r\n",
        "      c-=1\n",
        "    else:\n",
        "      r+=1\n",
        "  return max_index\n",
        "\n",
        "\n",
        "arr = [[0, 1, 1, 1],\n",
        "           [0, 0, 1, 1],\n",
        "           [1, 1, 1, 1],\n",
        "           [0, 0, 0, 0]]\n",
        "\n",
        "m =4\n",
        "n =4\n",
        "maxnoof1(arr,m,n)\n",
        "\n",
        "    \n"
      ],
      "execution_count": null,
      "outputs": [
        {
          "output_type": "execute_result",
          "data": {
            "text/plain": [
              "2"
            ]
          },
          "metadata": {
            "tags": []
          },
          "execution_count": 4
        }
      ]
    },
    {
      "cell_type": "code",
      "metadata": {
        "id": "g6cL-81Q08dQ"
      },
      "source": [
        "import sys\n",
        " \n",
        "INF = sys.maxsize\n",
        "N = 4\n",
        "\n",
        "\n",
        "def youngify(mat,i,j):\n",
        "  downval = mat[i+1][j]\n",
        "  if (i+1<N) else INF\n",
        "  rightval = mat[i][j+1] if (j+1<N) else INF\n",
        "\n",
        "  if (downVal == INF and rightVal == INF):\n",
        "        return\n",
        "  if (downVal < rightVal):\n",
        "        mat[i][j] = downVal\n",
        "        mat[i + 1][j] = INF\n",
        "        youngify(mat, i + 1, j)\n",
        "     \n",
        "  else:\n",
        "    mat[i][j] = rightVal\n",
        "    mat[i][j + 1] = INF\n",
        "    youngify(mat, i, j + 1)\n",
        "\n",
        "\n",
        "\n",
        "\n",
        "\n",
        "    \n",
        " \n",
        "  \n",
        "\n"
      ],
      "execution_count": null,
      "outputs": []
    },
    {
      "cell_type": "code",
      "metadata": {
        "colab": {
          "base_uri": "https://localhost:8080/"
        },
        "id": "RMrVM6AW52FH",
        "outputId": "cf571251-556c-46ef-b7eb-f0942c474253"
      },
      "source": [
        ""
      ],
      "execution_count": null,
      "outputs": [
        {
          "output_type": "execute_result",
          "data": {
            "text/plain": [
              "16"
            ]
          },
          "metadata": {
            "tags": []
          },
          "execution_count": 5
        }
      ]
    },
    {
      "cell_type": "code",
      "metadata": {
        "colab": {
          "base_uri": "https://localhost:8080/"
        },
        "id": "HSzHl-DC2jBI",
        "outputId": "c0bb1e52-ac87-4a34-dfd8-7381a5bd451f"
      },
      "source": [
        "def pairie(mat,m,n):\n",
        "  for a in range(n - 1):\n",
        "        for b in range(n - 1):\n",
        "            for d in range(a + 1, n):\n",
        "                for e in range(b + 1, n):\n",
        "                    if maxValue < int (mat[d][e] -\n",
        "                                       mat[a][b]):\n",
        "                        maxValue = int(mat[d][e] -\n",
        "                                       mat[a][b]);\n",
        "                    return maxValue\n",
        "\n",
        "mat = [[ 1, 2, -1, -4, -20 ],\n",
        "       [ -8, -3, 4, 2, 1 ],\n",
        "       [ 3, 8, 6, 1, 3 ],\n",
        "       [ -4, -1, 1, 7, -6 ],\n",
        "       [ 0, -4, 10, -5, 1 ]];\n",
        "        \n",
        "print(\"Maximum Value is \" +\n",
        "       str(pairie(mat,m,n)))"
      ],
      "execution_count": null,
      "outputs": [
        {
          "output_type": "error",
          "ename": "NameError",
          "evalue": "ignored",
          "traceback": [
            "\u001b[0;31m---------------------------------------------------------------------------\u001b[0m",
            "\u001b[0;31mNameError\u001b[0m                                 Traceback (most recent call last)",
            "\u001b[0;32m<ipython-input-1-e04806f2839a>\u001b[0m in \u001b[0;36m<module>\u001b[0;34m()\u001b[0m\n\u001b[1;32m     17\u001b[0m \u001b[0;34m\u001b[0m\u001b[0m\n\u001b[1;32m     18\u001b[0m print(\"Maximum Value is \" +\n\u001b[0;32m---> 19\u001b[0;31m        str(pairie(mat,m,n)))\n\u001b[0m",
            "\u001b[0;31mNameError\u001b[0m: name 'm' is not defined"
          ]
        }
      ]
    },
    {
      "cell_type": "code",
      "metadata": {
        "id": "_dF3-snqmWpN"
      },
      "source": [
        "STRING"
      ],
      "execution_count": null,
      "outputs": []
    },
    {
      "cell_type": "code",
      "metadata": {
        "colab": {
          "base_uri": "https://localhost:8080/"
        },
        "id": "yUJAzbSpoTyE",
        "outputId": "92263e9a-c72e-4fa5-fd07-d92b4865df56"
      },
      "source": [
        "def reversem(s,n):\n",
        "  left =0\n",
        "  right = n-1\n",
        "\n",
        "  while left<right:\n",
        "    s[left],s[right]= s[right],s[left]\n",
        "    left+=1\n",
        "    right-=1\n",
        "  return s\n",
        "\n",
        "s = [\"h\",\"e\",\"l\",\"l\",\"o\"]\n",
        "n = len(s)  \n",
        "print (reversem(s,n))"
      ],
      "execution_count": null,
      "outputs": [
        {
          "output_type": "stream",
          "text": [
            "['o', 'l', 'l', 'e', 'h']\n"
          ],
          "name": "stdout"
        }
      ]
    },
    {
      "cell_type": "code",
      "metadata": {
        "colab": {
          "base_uri": "https://localhost:8080/"
        },
        "id": "ttcuhi8DoVvy",
        "outputId": "35b21614-86af-4692-bae5-6bf26177a4d8"
      },
      "source": [
        "def reverse2(s,n):\n",
        "  s.reverse()\n",
        "  return s\n",
        "\n",
        "s = [\"h\",\"m\",\"l\",\"l\",\"o\"]\n",
        "n = len(s)  \n",
        "print (reverse2(s,n))"
      ],
      "execution_count": null,
      "outputs": [
        {
          "output_type": "stream",
          "text": [
            "['o', 'l', 'l', 'm', 'h']\n"
          ],
          "name": "stdout"
        }
      ]
    },
    {
      "cell_type": "code",
      "metadata": {
        "colab": {
          "base_uri": "https://localhost:8080/"
        },
        "id": "rGQKkGooql9o",
        "outputId": "40d02262-b7b6-4ef9-9660-35dbc1c19391"
      },
      "source": [
        "def reverse3(s,n):\n",
        "  s=s[::-1]\n",
        "  return s\n",
        "\n",
        "s = [\"h\",\"m\",\"k\",\"l\",\"o\"]\n",
        "n = len(s)  \n",
        "print (reverse3(s,n))"
      ],
      "execution_count": null,
      "outputs": [
        {
          "output_type": "stream",
          "text": [
            "['o', 'l', 'k', 'm', 'h']\n"
          ],
          "name": "stdout"
        }
      ]
    },
    {
      "cell_type": "code",
      "metadata": {
        "colab": {
          "base_uri": "https://localhost:8080/"
        },
        "id": "I0kHe47vq5Vp",
        "outputId": "2b3c2b91-5dc4-43f7-c72f-3151953d4d33"
      },
      "source": [
        "def reverse1(s,n):\n",
        "  str = \"\"\n",
        "  for i in s:\n",
        "    str = i+str\n",
        "  return str\n",
        "\n",
        "\n",
        "s = \"amisha\"\n",
        "n = len(s)  \n",
        "print (reverse1(s,n))"
      ],
      "execution_count": null,
      "outputs": [
        {
          "output_type": "stream",
          "text": [
            "ahsima\n"
          ],
          "name": "stdout"
        }
      ]
    },
    {
      "cell_type": "code",
      "metadata": {
        "colab": {
          "background_save": true,
          "base_uri": "https://localhost:8080/",
          "height": 327
        },
        "id": "CLOgz32tuvq2",
        "outputId": "407966cd-0180-4442-cdef-f6dce59fa7d5"
      },
      "source": [
        "def reverse2(s):\n",
        "  if len(s)==0:\n",
        "    return s\n",
        "  else:\n",
        "\n",
        "    return reverse(s[1:])+ s[0])\n",
        "\n",
        "s = \"amisha\"  \n",
        "print (reverse2(s))"
      ],
      "execution_count": null,
      "outputs": [
        {
          "output_type": "error",
          "ename": "TypeError",
          "evalue": "ignored",
          "traceback": [
            "\u001b[0;31m---------------------------------------------------------------------------\u001b[0m",
            "\u001b[0;31mTypeError\u001b[0m                                 Traceback (most recent call last)",
            "\u001b[0;32m<ipython-input-19-6e36d31e36da>\u001b[0m in \u001b[0;36m<module>\u001b[0;34m()\u001b[0m\n\u001b[1;32m      7\u001b[0m \u001b[0;34m\u001b[0m\u001b[0m\n\u001b[1;32m      8\u001b[0m \u001b[0ms\u001b[0m \u001b[0;34m=\u001b[0m \u001b[0;34m\"amisha\"\u001b[0m\u001b[0;34m\u001b[0m\u001b[0;34m\u001b[0m\u001b[0m\n\u001b[0;32m----> 9\u001b[0;31m \u001b[0mprint\u001b[0m \u001b[0;34m(\u001b[0m\u001b[0mreverse2\u001b[0m\u001b[0;34m(\u001b[0m\u001b[0ms\u001b[0m\u001b[0;34m)\u001b[0m\u001b[0;34m)\u001b[0m\u001b[0;34m\u001b[0m\u001b[0;34m\u001b[0m\u001b[0m\n\u001b[0m",
            "\u001b[0;32m<ipython-input-19-6e36d31e36da>\u001b[0m in \u001b[0;36mreverse2\u001b[0;34m(s)\u001b[0m\n\u001b[1;32m      4\u001b[0m   \u001b[0;32melse\u001b[0m\u001b[0;34m:\u001b[0m\u001b[0;34m\u001b[0m\u001b[0;34m\u001b[0m\u001b[0m\n\u001b[1;32m      5\u001b[0m \u001b[0;34m\u001b[0m\u001b[0m\n\u001b[0;32m----> 6\u001b[0;31m     \u001b[0;32mreturn\u001b[0m \u001b[0mreverse\u001b[0m\u001b[0;34m(\u001b[0m\u001b[0ms\u001b[0m\u001b[0;34m[\u001b[0m\u001b[0;36m1\u001b[0m\u001b[0;34m:\u001b[0m\u001b[0;34m]\u001b[0m\u001b[0;34m)\u001b[0m\u001b[0;34m+\u001b[0m \u001b[0ms\u001b[0m\u001b[0;34m[\u001b[0m\u001b[0;36m0\u001b[0m\u001b[0;34m]\u001b[0m\u001b[0;34m\u001b[0m\u001b[0;34m\u001b[0m\u001b[0m\n\u001b[0m\u001b[1;32m      7\u001b[0m \u001b[0;34m\u001b[0m\u001b[0m\n\u001b[1;32m      8\u001b[0m \u001b[0ms\u001b[0m \u001b[0;34m=\u001b[0m \u001b[0;34m\"amisha\"\u001b[0m\u001b[0;34m\u001b[0m\u001b[0;34m\u001b[0m\u001b[0m\n",
            "\u001b[0;31mTypeError\u001b[0m: reverse() missing 1 required positional argument: 'n'"
          ]
        }
      ]
    },
    {
      "cell_type": "code",
      "metadata": {
        "colab": {
          "base_uri": "https://localhost:8080/",
          "height": 132
        },
        "id": "tpXIUw0KW0GI",
        "outputId": "ccd2b5c7-f9a9-44b2-e88f-a864f3d744a7"
      },
      "source": [
        "def isPlaindrome(self, S):\n",
        "  S = S.lower()\n",
        "  n = len(S)\n",
        "\tif n<2:\n",
        "\n",
        "    return 1\n",
        "  elif S[0] == S[n - 1]:\n",
        "    return isPlaindrome(S[1: n - 1])\n",
        "\telse:\n",
        "    return 0\n",
        "\n",
        "S= \"amalyalama\"\n",
        "isPlaindrome(self,S)"
      ],
      "execution_count": null,
      "outputs": [
        {
          "output_type": "error",
          "ename": "TabError",
          "evalue": "ignored",
          "traceback": [
            "\u001b[0;36m  File \u001b[0;32m\"<ipython-input-6-3e339356324c>\"\u001b[0;36m, line \u001b[0;32m4\u001b[0m\n\u001b[0;31m    if n<2:\u001b[0m\n\u001b[0m           ^\u001b[0m\n\u001b[0;31mTabError\u001b[0m\u001b[0;31m:\u001b[0m inconsistent use of tabs and spaces in indentation\n"
          ]
        }
      ]
    },
    {
      "cell_type": "code",
      "metadata": {
        "colab": {
          "base_uri": "https://localhost:8080/"
        },
        "id": "uZ0pnfUcctNZ",
        "outputId": "283e6985-3e85-4f67-8d05-716e74052a3d"
      },
      "source": [
        "NO_OF_CHARS = 256\n",
        " \n",
        "def fillCharCounts(string, count):\n",
        "    for i in string:\n",
        "        count[ord(i)] += 1\n",
        "    return count\n",
        " \n",
        "# Print duplicates present\n",
        "# in the passed string\n",
        "def printDups(string):\n",
        "     \n",
        "    # Create an array of size 256\n",
        "    # and fill count of every character in it\n",
        "    count = [0] * NO_OF_CHARS\n",
        "    count = fillCharCounts(string,count)\n",
        " \n",
        "    # Utility Variable\n",
        "    k = 0\n",
        " \n",
        "    # Print characters having\n",
        "    # count more than 0\n",
        "    for i in count:\n",
        "        if int(i) > 1:\n",
        "            print (chr(k) + \", count = \" + str(i))\n",
        "        k += 1\n",
        " \n",
        "# Driver program to test the above function\n",
        "string = \"test string\"\n",
        "print (printDups(string))"
      ],
      "execution_count": null,
      "outputs": [
        {
          "output_type": "stream",
          "text": [
            "s, count = 2\n",
            "t, count = 3\n",
            "None\n"
          ],
          "name": "stdout"
        }
      ]
    },
    {
      "cell_type": "code",
      "metadata": {
        "colab": {
          "base_uri": "https://localhost:8080/",
          "height": 327
        },
        "id": "XjcAahp4lX37",
        "outputId": "e28f9442-08f6-406c-e76d-610434df52a1"
      },
      "source": [
        "No_of_chars = 256\n",
        "\n",
        "def fillchars(string,count):\n",
        "  for i in string:\n",
        "    count[ord(i)]+=1\n",
        "  return count\n",
        "def printDups(string):\n",
        "     \n",
        "    # Create an array of size 256\n",
        "    # and fill count of every character in it\n",
        "    count = [0] * NO_OF_CHARS\n",
        "    count = fillchars(string,count)\n",
        "\n",
        "    k=0\n",
        "\n",
        "    for i in count:\n",
        "      if int(i) > count:\n",
        "         print (chr(k) + \", count = \" + str(i))\n",
        "         k +=1\n",
        "string = \"test string\"\n",
        "print (printDups(string))"
      ],
      "execution_count": null,
      "outputs": [
        {
          "output_type": "error",
          "ename": "TypeError",
          "evalue": "ignored",
          "traceback": [
            "\u001b[0;31m---------------------------------------------------------------------------\u001b[0m",
            "\u001b[0;31mTypeError\u001b[0m                                 Traceback (most recent call last)",
            "\u001b[0;32m<ipython-input-14-f12a3e51b6e4>\u001b[0m in \u001b[0;36m<module>\u001b[0;34m()\u001b[0m\n\u001b[1;32m     19\u001b[0m          \u001b[0mk\u001b[0m \u001b[0;34m+=\u001b[0m\u001b[0;36m1\u001b[0m\u001b[0;34m\u001b[0m\u001b[0;34m\u001b[0m\u001b[0m\n\u001b[1;32m     20\u001b[0m \u001b[0mstring\u001b[0m \u001b[0;34m=\u001b[0m \u001b[0;34m\"test string\"\u001b[0m\u001b[0;34m\u001b[0m\u001b[0;34m\u001b[0m\u001b[0m\n\u001b[0;32m---> 21\u001b[0;31m \u001b[0mprint\u001b[0m \u001b[0;34m(\u001b[0m\u001b[0mprintDups\u001b[0m\u001b[0;34m(\u001b[0m\u001b[0mstring\u001b[0m\u001b[0;34m)\u001b[0m\u001b[0;34m)\u001b[0m\u001b[0;34m\u001b[0m\u001b[0;34m\u001b[0m\u001b[0m\n\u001b[0m",
            "\u001b[0;32m<ipython-input-14-f12a3e51b6e4>\u001b[0m in \u001b[0;36mprintDups\u001b[0;34m(string)\u001b[0m\n\u001b[1;32m     15\u001b[0m \u001b[0;34m\u001b[0m\u001b[0m\n\u001b[1;32m     16\u001b[0m     \u001b[0;32mfor\u001b[0m \u001b[0mi\u001b[0m \u001b[0;32min\u001b[0m \u001b[0mcount\u001b[0m\u001b[0;34m:\u001b[0m\u001b[0;34m\u001b[0m\u001b[0;34m\u001b[0m\u001b[0m\n\u001b[0;32m---> 17\u001b[0;31m       \u001b[0;32mif\u001b[0m \u001b[0mint\u001b[0m\u001b[0;34m(\u001b[0m\u001b[0mi\u001b[0m\u001b[0;34m)\u001b[0m \u001b[0;34m>\u001b[0m \u001b[0mcount\u001b[0m\u001b[0;34m:\u001b[0m\u001b[0;34m\u001b[0m\u001b[0;34m\u001b[0m\u001b[0m\n\u001b[0m\u001b[1;32m     18\u001b[0m          \u001b[0mprint\u001b[0m \u001b[0;34m(\u001b[0m\u001b[0mchr\u001b[0m\u001b[0;34m(\u001b[0m\u001b[0mk\u001b[0m\u001b[0;34m)\u001b[0m \u001b[0;34m+\u001b[0m \u001b[0;34m\", count = \"\u001b[0m \u001b[0;34m+\u001b[0m \u001b[0mstr\u001b[0m\u001b[0;34m(\u001b[0m\u001b[0mi\u001b[0m\u001b[0;34m)\u001b[0m\u001b[0;34m)\u001b[0m\u001b[0;34m\u001b[0m\u001b[0;34m\u001b[0m\u001b[0m\n\u001b[1;32m     19\u001b[0m          \u001b[0mk\u001b[0m \u001b[0;34m+=\u001b[0m\u001b[0;36m1\u001b[0m\u001b[0;34m\u001b[0m\u001b[0;34m\u001b[0m\u001b[0m\n",
            "\u001b[0;31mTypeError\u001b[0m: '>' not supported between instances of 'int' and 'list'"
          ]
        }
      ]
    },
    {
      "cell_type": "code",
      "metadata": {
        "colab": {
          "base_uri": "https://localhost:8080/"
        },
        "id": "BcLcwXOPsqrq",
        "outputId": "ca85ae3e-5f9c-4137-c114-08e038373145"
      },
      "source": [
        "from collections import Counter\n",
        "  \n",
        "def find_dup_char(input):\n",
        "    # now create dictionary using counter method\n",
        "    # which will have strings as key and their \n",
        "    # frequencies as value\n",
        "    WC = Counter(input)\n",
        "    j = -1\n",
        "      \n",
        "      \n",
        "    # Finding no. of  occurrence of a character\n",
        "    # and get the index of it.\n",
        "    for i in WC.values():\n",
        "        j = j + 1\n",
        "        if( i > 1 ):\n",
        "            print(WC.keys(),WC.values())\n",
        "  \n",
        "\n",
        "input = 'geeksforgeeks'\n",
        "find_dup_char(input)"
      ],
      "execution_count": null,
      "outputs": [
        {
          "output_type": "stream",
          "text": [
            "dict_keys(['g', 'e', 'k', 's', 'f', 'o', 'r']) dict_values([2, 4, 2, 2, 1, 1, 1])\n",
            "dict_keys(['g', 'e', 'k', 's', 'f', 'o', 'r']) dict_values([2, 4, 2, 2, 1, 1, 1])\n",
            "dict_keys(['g', 'e', 'k', 's', 'f', 'o', 'r']) dict_values([2, 4, 2, 2, 1, 1, 1])\n",
            "dict_keys(['g', 'e', 'k', 's', 'f', 'o', 'r']) dict_values([2, 4, 2, 2, 1, 1, 1])\n"
          ],
          "name": "stdout"
        }
      ]
    },
    {
      "cell_type": "code",
      "metadata": {
        "colab": {
          "base_uri": "https://localhost:8080/"
        },
        "id": "uYLO11pCyMgG",
        "outputId": "bc003c25-29c8-44af-cfb7-26d94f2b324a"
      },
      "source": [
        "def checki(string1,string2):\n",
        "  temp = ''\n",
        "  size1= len(string1)\n",
        "  size2 = len(string2)\n",
        "\n",
        "  if size1!=size2:\n",
        "    return 0\n",
        "\n",
        "  temp = string1+string1\n",
        "  #Now check if str2 is a substring of temp\n",
        "    # string.count returns the number of occurrences of\n",
        "    # the second string in temp\n",
        "\n",
        "  if temp.count(string2)>0:\n",
        "    return 1\n",
        "  else:\n",
        "    return 0\n",
        "string1 = \"AACD\"\n",
        "string2 = \"ACDA\"\n",
        "  \n",
        "if checki(string1, string2):\n",
        "    print (\"Strings are rotations of each other\")\n",
        "else:\n",
        "    print (\"Strings are not rotations of each other\")\n",
        "  \n"
      ],
      "execution_count": null,
      "outputs": [
        {
          "output_type": "stream",
          "text": [
            "Strings are rotations of each other\n"
          ],
          "name": "stdout"
        }
      ]
    },
    {
      "cell_type": "code",
      "metadata": {
        "id": "Mm28YF0B1jzs"
      },
      "source": [
        "def shuffle(string1,string2,string3):\n",
        "  i=0\n",
        "  j = 0\n",
        "  k =0\n",
        "\n",
        "  while (!string3[k]):\n",
        "    if string1[i]==string3[k]:\n",
        "      i+=1\n",
        "    elif string2[i] == string3[k]:\n",
        "      j+=1\n",
        "    else:\n",
        "      return 0\n",
        "    k+=1\n",
        "\n",
        "    \n",
        "\n",
        "\n",
        "\n",
        "  \n"
      ],
      "execution_count": null,
      "outputs": []
    },
    {
      "cell_type": "code",
      "metadata": {
        "id": "QoSCqqZPD4-s"
      },
      "source": [
        "def longest(s,n):"
      ],
      "execution_count": null,
      "outputs": []
    },
    {
      "cell_type": "code",
      "metadata": {
        "id": "1-eyvuCkzaYW",
        "colab": {
          "base_uri": "https://localhost:8080/"
        },
        "outputId": "806b371a-4912-46c3-af10-e0a36b0d1595"
      },
      "source": [
        "def printSubSequences(STR, subSTR=\"\"):\n",
        "    \"\"\"\n",
        "    function:\n",
        "        To print all subsequences of string\n",
        "        concept:\n",
        "            Pick and Don’t Pick\n",
        "        variables:\n",
        "            STR = string\n",
        "            subSTR = to store subsequence\n",
        "    \"\"\"\n",
        "    if len(STR) == 0:\n",
        "        print(subSTR, end=\" \")\n",
        "        return\n",
        " \n",
        "    # we add adding 1st character in string\n",
        "    printSubSequences(STR[:-1], subSTR + STR[-1])\n",
        "    \"\"\"\n",
        "    Not adding first character of the string\n",
        "    because the concept of subsequence either\n",
        "    character will present or not\n",
        "    \"\"\"\n",
        "    printSubSequences(STR[:-1], subSTR)\n",
        "    return\n",
        " \n",
        " \n",
        "def main():\n",
        "    \"\"\"\n",
        "    main function to drive code\n",
        "    \"\"\"\n",
        "    STR = \"abc\"\n",
        "    printSubSequences(STR)\n",
        " \n",
        " \n",
        "if __name__ == \"__main__\":\n",
        "    main()"
      ],
      "execution_count": null,
      "outputs": [
        {
          "output_type": "stream",
          "text": [
            "cba cb ca c ba b a  "
          ],
          "name": "stdout"
        }
      ]
    },
    {
      "cell_type": "code",
      "metadata": {
        "colab": {
          "base_uri": "https://localhost:8080/"
        },
        "id": "9pAeA5Vz5Li1",
        "outputId": "0e617863-b652-4ab2-c72c-0469042da405"
      },
      "source": [
        "def printSubsequences(arr, index, subarr): \n",
        "        \n",
        "    # Print the subsequence when reach  \n",
        "    # the leaf of recursion tree \n",
        "    if index == len(arr): \n",
        "            \n",
        "        # Condition to avoid printing \n",
        "        # empty subsequence \n",
        "        if len(subarr) != 0: \n",
        "            print(subarr) \n",
        "        \n",
        "    else: \n",
        "        # Subsequence without including  \n",
        "        # the element at current index \n",
        "        printSubsequences(arr, index + 1, subarr) \n",
        "            \n",
        "        # Subsequence including the element \n",
        "        # at current index \n",
        "        printSubsequences(arr, index + 1,  \n",
        "                            subarr+[arr[index]]) \n",
        "        \n",
        "    return subarr\n",
        "            \n",
        "arr =\"abc\"\n",
        "    \n",
        "printSubsequences(arr, 0, []) \n",
        "  "
      ],
      "execution_count": null,
      "outputs": [
        {
          "output_type": "stream",
          "text": [
            "['c']\n",
            "['b']\n",
            "['b', 'c']\n",
            "['a']\n",
            "['a', 'c']\n",
            "['a', 'b']\n",
            "['a', 'b', 'c']\n"
          ],
          "name": "stdout"
        },
        {
          "output_type": "execute_result",
          "data": {
            "text/plain": [
              "[]"
            ]
          },
          "metadata": {
            "tags": []
          },
          "execution_count": 3
        }
      ]
    },
    {
      "cell_type": "code",
      "metadata": {
        "colab": {
          "base_uri": "https://localhost:8080/",
          "height": 160
        },
        "id": "Hop0eUTC8dmb",
        "outputId": "b1141d3f-7345-4eae-fde2-377e59931fef"
      },
      "source": [
        "def subsequence(S,index,subs):\n",
        "\n",
        "  if index == len(arr): \n",
        "    if len(subs) != 0:\n",
        "      print(subs) \n",
        "  else:\n",
        "    subsequence(S,index+1,subs)\n",
        "    subsequence(S,index+1,subs+S[index])\n",
        "\n",
        "  return subs\n",
        "\n",
        "\n",
        "\n",
        "S = \"abcd\"\n",
        "subsequence(S,0,\"\")\n",
        "\n"
      ],
      "execution_count": null,
      "outputs": [
        {
          "output_type": "stream",
          "text": [
            "c\n",
            "b\n",
            "bc\n",
            "a\n",
            "ac\n",
            "ab\n",
            "abc\n"
          ],
          "name": "stdout"
        },
        {
          "output_type": "execute_result",
          "data": {
            "application/vnd.google.colaboratory.intrinsic+json": {
              "type": "string"
            },
            "text/plain": [
              "''"
            ]
          },
          "metadata": {
            "tags": []
          },
          "execution_count": 13
        }
      ]
    },
    {
      "cell_type": "code",
      "metadata": {
        "colab": {
          "base_uri": "https://localhost:8080/"
        },
        "id": "jbBBqhjlE16y",
        "outputId": "e2052126-5bc2-4b80-d431-20487535af85"
      },
      "source": [
        "def toString(List):\n",
        "    return ''.join(List)\n",
        "def permute(a, l, r):\n",
        "\n",
        "  # l = a[0]\n",
        "  # n = len(a)\n",
        "  # r = a[n-1]\n",
        "  if l==r:\n",
        "    print(toString(a))\n",
        "  else:\n",
        "    for i in range(l,r+1):\n",
        "      a[l], a[i] = a[i], a[l]\n",
        "      permute(a, l+1, r) \n",
        "      # recursion\n",
        "      a[l], a[i] = a[i], a[l] \n",
        "  return \n",
        "      # backtracking\n",
        "        # Code here\n",
        "string = \"ABCD\"\n",
        "n = len(string)\n",
        "a= list(string)\n",
        "permute(a, 0, n-1)"
      ],
      "execution_count": 11,
      "outputs": [
        {
          "output_type": "stream",
          "text": [
            "ABCD\n",
            "ABDC\n",
            "ACBD\n",
            "ACDB\n",
            "ADCB\n",
            "ADBC\n",
            "BACD\n",
            "BADC\n",
            "BCAD\n",
            "BCDA\n",
            "BDCA\n",
            "BDAC\n",
            "CBAD\n",
            "CBDA\n",
            "CABD\n",
            "CADB\n",
            "CDAB\n",
            "CDBA\n",
            "DBCA\n",
            "DBAC\n",
            "DCBA\n",
            "DCAB\n",
            "DACB\n",
            "DABC\n"
          ],
          "name": "stdout"
        }
      ]
    },
    {
      "cell_type": "code",
      "metadata": {
        "colab": {
          "base_uri": "https://localhost:8080/"
        },
        "id": "ne9P60D7NyDM",
        "outputId": "51a942d5-f998-4d49-81ee-e4887940ea20"
      },
      "source": [
        "def toString(List):\n",
        "    return ''.join(List)\n",
        "  \n",
        "# Function to print permutations of string\n",
        "# This function takes three parameters:\n",
        "# 1. String\n",
        "# 2. Starting index of the string\n",
        "# 3. Ending index of the string.\n",
        "def permute(a, l, r):\n",
        "    if l == r:\n",
        "        print(toString(a))\n",
        "    else:\n",
        "        for i in range(l, r + 1):\n",
        "            a[l], a[i] = a[i], a[l]\n",
        "            permute(a, l + 1, r)\n",
        "            a[l], a[i] = a[i], a[l] # backtrack\n",
        "  \n",
        "# Driver program to test the above function\n",
        "string = \"ABC\"\n",
        "n = len(string)\n",
        "a = list(string)\n",
        "permute(a, 0, n-1)\n",
        "  "
      ],
      "execution_count": 10,
      "outputs": [
        {
          "output_type": "stream",
          "text": [
            "ABC\n",
            "ACB\n",
            "BAC\n",
            "BCA\n",
            "CBA\n",
            "CAB\n"
          ],
          "name": "stdout"
        }
      ]
    },
    {
      "cell_type": "code",
      "metadata": {
        "id": "WSAn8dlSPUJO"
      },
      "source": [
        ""
      ],
      "execution_count": null,
      "outputs": []
    }
  ]
}